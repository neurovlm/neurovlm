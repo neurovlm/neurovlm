{
 "cells": [
  {
   "cell_type": "code",
   "execution_count": 1,
   "id": "6bba59bd",
   "metadata": {},
   "outputs": [],
   "source": [
    "import sys\n",
    "import os\n",
    "import re\n",
    "import json\n",
    "import pickle\n",
    "import gzip\n",
    "\n",
    "import numpy as np\n",
    "import pandas as pd\n",
    "import torch\n",
    "\n",
    "import matplotlib.pyplot as plt\n",
    "from tqdm.notebook import tqdm\n",
    "\n",
    "from pydantic import BaseModel\n",
    "\n",
    "import ollama\n",
    "from ollama import chat\n",
    "\n",
    "import nibabel as nib\n",
    "from nilearn import maskers\n",
    "from nilearn.plotting import view_img\n",
    "from nilearn.image import resample_img\n",
    "\n",
    "from neurovlm.data import get_data_dir\n",
    "from neurovlm.models import Specter\n",
    "from neurovlm.llm_summary import generate_response, search_papers, search_wiki\n",
    "from neurovlm.brain2text import run_brain2text\n"
   ]
  },
  {
   "cell_type": "markdown",
   "id": "71187e37",
   "metadata": {},
   "source": [
    "## Ollama Setup\n",
    "\n",
    "**1. Install Ollama**\n",
    "\n",
    "- **macOS:**  \n",
    "    ```sh\n",
    "    curl -fsSL https://ollama.com/install.sh | sh\n",
    "    ```\n",
    "- **Linux:**  \n",
    "    ```sh\n",
    "    curl -fsSL https://ollama.com/install.sh | sh\n",
    "    ```\n",
    "\n",
    "**2. Start Ollama Service**\n",
    "    ```\n",
    "    ollama serve\n",
    "    ```\n",
    "    \n",
    "**3. Pull a Model (Our default model is qwen2.5:3b-instruct)**\n",
    "    ```\n",
    "    ollama pull qwen2.5:3b-instruct\n",
    "    ```\n"
   ]
  },
  {
   "cell_type": "markdown",
   "id": "2d0b30c7",
   "metadata": {},
   "source": [
    "## Load data and models"
   ]
  },
  {
   "cell_type": "code",
   "execution_count": 2,
   "id": "15f5edf1",
   "metadata": {},
   "outputs": [],
   "source": [
    "# Load data and Specter\n",
    "data_dir = get_data_dir()\n",
    "autoencoder = torch.load(data_dir / \"autoencoder_sparse.pt\", weights_only=False).cpu()\n",
    "\n",
    "\n",
    "mask_arrays = np.load(f\"{data_dir}/mask.npz\", allow_pickle=True)\n",
    "mask_img = nib.Nifti1Image(mask_arrays[\"mask\"].astype(float),  mask_arrays[\"affine\"])\n",
    "masker = maskers.NiftiMasker(mask_img=mask_img, dtype=np.float32).fit()"
   ]
  },
  {
   "cell_type": "markdown",
   "id": "f2549c56",
   "metadata": {},
   "source": [
    "## Example query for text\n",
    "\n",
    "The titles and abstract most related to the query will be passed to the LM.\n",
    "\n",
    "The functions expect a string input; no need to encode the input text before passing it in"
   ]
  },
  {
   "cell_type": "code",
   "execution_count": 3,
   "id": "3329e5e9",
   "metadata": {},
   "outputs": [],
   "source": [
    "query = \"what is the role of the hippocampus in memory formation\""
   ]
  },
  {
   "cell_type": "code",
   "execution_count": 4,
   "id": "76f2e98e",
   "metadata": {},
   "outputs": [
    {
     "name": "stderr",
     "output_type": "stream",
     "text": [
      "There are adapters available but none are activated for the forward pass.\n"
     ]
    },
    {
     "name": "stdout",
     "output_type": "stream",
     "text": [
      "Top matches:\n",
      "1. Abnormal functional connectivity of hippocampus during episodic memory retrieval  processing network in amnestic mild cognitive impairment.\n",
      "2. Neural correlates of autobiographical memory in amnestic Mild Cognitive Impairment.\n",
      "3. Aberrant hippocampal subregion networks associated with the classifications of aMCI subjects: a longitudinal resting-state study.\n",
      "4. Distinct hippocampal functional networks revealed by tractography-based parcellation.\n",
      "5. Neural Correlates of Anosognosia in Alzheimer's Disease and Mild Cognitive Impairment: A Multi-Method Assessment\n"
     ]
    }
   ],
   "source": [
    "# Get the top k similar papers\n",
    "abstract, titles = search_papers(query, show_titles = True)"
   ]
  },
  {
   "cell_type": "code",
   "execution_count": 5,
   "id": "0377d8ed",
   "metadata": {},
   "outputs": [
    {
     "name": "stdout",
     "output_type": "stream",
     "text": [
      "Top matches:\n",
      "1. Limbic\n",
      "2. Sex differences in coping\n",
      "3. Lavandula\n",
      "4. Olfactory bulb\n",
      "5. Alpertine\n",
      "6. TAAR1\n",
      "7. Terminology of transgender anatomy\n",
      "8. Chemical biology\n",
      "9. Romanticism\n",
      "10. Smoking culture\n"
     ]
    }
   ],
   "source": [
    "summary, titles = search_wiki(query, top_k=10, show_titles=True)"
   ]
  },
  {
   "cell_type": "code",
   "execution_count": 5,
   "id": "44087e36",
   "metadata": {},
   "outputs": [
    {
     "name": "stdout",
     "output_type": "stream",
     "text": [
      "Top 5 publications for query: 'what is the role of the hippocampus in memory formation'\n",
      "[1] Probing the relevance of the hippocampus for conflict-induced memory improvement\n",
      "[2] Specifying the role of the ventromedial prefrontal cortex in memory formation.\n",
      "[3] The stressed hippocampus, synaptic plasticity and lost memories.\n",
      "[4] Cooperation between the hippocampus and the striatum during episodic encoding.\n",
      "[5] Dose-dependent effect of the Val66Met polymorphism of the brain-derived neurotrophic factor gene on memory-related hippocampal activity.\n",
      "LLM writing summary...\n",
      "LLM finished.\n",
      "### Overview:\n",
      "Across these publications, the role of the hippocampus is being explored within various aspects of episodic memory formation. The studies predominantly focus on the functional properties of the hippocampus during both encoding and retrieval processes, as well as its interaction with other brain regions. While some research emphasizes the hippocampus' involvement in resolving response conflicts, others highlight its participation in successful memory formation relative to prior knowledge relevance.\n",
      "\n",
      "### Publication [1]: Role of Hippocampus in Conflict-Induced Memory Improvement\n",
      "This study focuses on how the hippocampus is implicated in response conflict scenarios during episodic memory encoding. Key insights include:\n",
      "- In healthy controls, improved memory for conflict stimuli was observed, suggesting a role for the hippocampus in this process.\n",
      "- The left hippocampal region of interest showed less efficient recruitment for memory performance under conflicting trials compared to congruent ones, pointing towards competition within the hippocampus.\n",
      "\n",
      "Publication [2]: Role of Ventromedial Prefrontal Cortex (vmPFC) in Memory Formation\n",
      "This study introduces a distinction between knowledge-relevance and knowledge-congruency as critical factors affecting vmPFC involvement during memory formation:\n",
      "- When knowledge-congruency is high, the vmPFC contributes to successful memory formation.\n",
      "- Knowledge-relevance does not influence this contribution.\n",
      "\n",
      "Publication [3]: Stress Effects on Hippocampus\n",
      "This publication underscores the hippocampus' sensitivity to stress and its subsequent effects on cognitive processes such as learning and memory. The study suggests that stress can alter hippocampal functioning, which is consistent with other literature but also highlights potential reorganization of mnemonic mechanisms.\n",
      "\n",
      "Publication [4]: Interaction Between Hippocampus and Striatum During Episodic Encoding\n",
      "This investigation reveals a cooperative relationship between the hippocampus and the striatum during episodic memory formation. The findings indicate that both regions contribute to successful encoding, and their activity correlates with later recall success.\n",
      "\n",
      "Publication [5]: Genetic Influences on Memory-related Hippocampal Activity\n",
      "Here, the study examines the Val66Met polymorphism of the BDNF gene in Japanese individuals to understand its impact on hippocampal function and memory. The results show a negative correlation between dose of Met-BDNF allele and encoding related activity in bilateral hippocampus regions, suggesting genetic influences on human memory performance.\n",
      "\n",
      "### Synthesis:\n",
      "The studies collectively converge around the role of the hippocampus in episodic memory formation but vary in their specific contributions or roles attributed to it. While some emphasize conflict resolution within the hippocampus, others stress its integration with other brain regions (such as vmPFC and striatum) for successful encoding. Additionally, genetic influences are noted, indicating that individual variations can also play a role in how effectively memories are formed. \n",
      "\n",
      "The divergent findings across these studies suggest a complex interplay of factors including the nature of the stimuli presented during encoding, prior knowledge relevance, stress effects on hippocampal function, and genetic polymorphisms like BDNF Val66Met. Further research is needed to reconcile these differences and better understand how all these elements contribute to successful memory formation in healthy individuals as well as those with conditions such as mesial temporal lobe epilepsy or neurological disorders that affect the hippocampus directly.\n"
     ]
    }
   ],
   "source": [
    "output = generate_response(query)"
   ]
  },
  {
   "cell_type": "code",
   "execution_count": 13,
   "id": "4287e9d2",
   "metadata": {},
   "outputs": [
    {
     "data": {
      "text/plain": [
       "\"### Overview:\\nAcross these publications, the role of the hippocampus is being explored within various aspects of episodic memory formation. The studies predominantly focus on the functional properties of the hippocampus during both encoding and retrieval processes, as well as its interaction with other brain regions. While some research emphasizes the hippocampus' involvement in resolving response conflicts, others highlight its participation in successful memory formation relative to prior knowledge relevance.\\n\\n### Publication [1]: Role of Hippocampus in Conflict-Induced Memory Improvement\\nThis study focuses on how the hippocampus is implicated in response conflict scenarios during episodic memory encoding. Key insights include:\\n- In healthy controls, improved memory for conflict stimuli was observed, suggesting a role for the hippocampus in this process.\\n- The left hippocampal region of interest showed less efficient recruitment for memory performance under conflicting trials compared to congruent ones, pointing towards competition within the hippocampus.\\n\\nPublication [2]: Role of Ventromedial Prefrontal Cortex (vmPFC) in Memory Formation\\nThis study introduces a distinction between knowledge-relevance and knowledge-congruency as critical factors affecting vmPFC involvement during memory formation:\\n- When knowledge-congruency is high, the vmPFC contributes to successful memory formation.\\n- Knowledge-relevance does not influence this contribution.\\n\\nPublication [3]: Stress Effects on Hippocampus\\nThis publication underscores the hippocampus' sensitivity to stress and its subsequent effects on cognitive processes such as learning and memory. The study suggests that stress can alter hippocampal functioning, which is consistent with other literature but also highlights potential reorganization of mnemonic mechanisms.\\n\\nPublication [4]: Interaction Between Hippocampus and Striatum During Episodic Encoding\\nThis investigation reveals a cooperative relationship between the hippocampus and the striatum during episodic memory formation. The findings indicate that both regions contribute to successful encoding, and their activity correlates with later recall success.\\n\\nPublication [5]: Genetic Influences on Memory-related Hippocampal Activity\\nHere, the study examines the Val66Met polymorphism of the BDNF gene in Japanese individuals to understand its impact on hippocampal function and memory. The results show a negative correlation between dose of Met-BDNF allele and encoding related activity in bilateral hippocampus regions, suggesting genetic influences on human memory performance.\\n\\n### Synthesis:\\nThe studies collectively converge around the role of the hippocampus in episodic memory formation but vary in their specific contributions or roles attributed to it. While some emphasize conflict resolution within the hippocampus, others stress its integration with other brain regions (such as vmPFC and striatum) for successful encoding. Additionally, genetic influences are noted, indicating that individual variations can also play a role in how effectively memories are formed. \\n\\nThe divergent findings across these studies suggest a complex interplay of factors including the nature of the stimuli presented during encoding, prior knowledge relevance, stress effects on hippocampal function, and genetic polymorphisms like BDNF Val66Met. Further research is needed to reconcile these differences and better understand how all these elements contribute to successful memory formation in healthy individuals as well as those with conditions such as mesial temporal lobe epilepsy or neurological disorders that affect the hippocampus directly.\""
      ]
     },
     "execution_count": 13,
     "metadata": {},
     "output_type": "execute_result"
    }
   ],
   "source": [
    "output"
   ]
  },
  {
   "cell_type": "markdown",
   "id": "47ff6716",
   "metadata": {},
   "source": [
    "## Example query for Brian Input\n",
    "\n",
    "The titles and abstract most related to the brain will be passed to the LM.\n",
    "\n",
    "The functions expects an already encoded brain input"
   ]
  },
  {
   "cell_type": "code",
   "execution_count": 3,
   "id": "a0127f9a",
   "metadata": {},
   "outputs": [],
   "source": [
    "# Load network atlases\n",
    "with gzip.open(get_data_dir() / f\"networks_arrays.pkl.gz\", \"rb\") as f:\n",
    "    networks = pickle.load(f)"
   ]
  },
  {
   "cell_type": "code",
   "execution_count": 4,
   "id": "9038320b",
   "metadata": {},
   "outputs": [],
   "source": [
    "networks = {k: v for _k in networks.keys() for k, v in networks[_k].items()}"
   ]
  },
  {
   "cell_type": "code",
   "execution_count": 5,
   "id": "6bf6c259",
   "metadata": {},
   "outputs": [
    {
     "data": {
      "application/vnd.jupyter.widget-view+json": {
       "model_id": "7c0bf1e379074567a18624885ec2e285",
       "version_major": 2,
       "version_minor": 0
      },
      "text/plain": [
       "  0%|          | 0/152 [00:00<?, ?it/s]"
      ]
     },
     "metadata": {},
     "output_type": "display_data"
    }
   ],
   "source": [
    "networks_resampled = {}\n",
    "\n",
    "for k in tqdm(networks.keys(), total=len(networks)):\n",
    "    img = nib.Nifti1Image(networks[k][\"array\"], affine=networks[k][\"affine\"])\n",
    "\n",
    "    if len(np.unique(networks[k][\"array\"])) == 2:\n",
    "        # binary data\n",
    "        img_resampled = resample_img(img, mask_arrays[\"affine\"], interpolation=\"nearest\")\n",
    "    else:\n",
    "        img_resampled = resample_img(img, mask_arrays[\"affine\"])\n",
    "        img_resampled_arr = img_resampled.get_fdata()\n",
    "        img_resampled_arr[img_resampled_arr < 0] = 0.\n",
    "        thresh = np.percentile(img_resampled_arr.flatten(), 95)\n",
    "        img_resampled_arr[img_resampled_arr < thresh] = 0.\n",
    "        img_resampled_arr[img_resampled_arr >= thresh] = 1.\n",
    "        img_resampled = nib.Nifti1Image(img_resampled_arr, affine=mask_arrays[\"affine\"])\n",
    "\n",
    "    networks_resampled[k] = img_resampled"
   ]
  },
  {
   "cell_type": "code",
   "execution_count": 8,
   "id": "13db1a41",
   "metadata": {},
   "outputs": [
    {
     "data": {
      "application/vnd.jupyter.widget-view+json": {
       "model_id": "fb260e53f53c45cdb1af3264065e9d46",
       "version_major": 2,
       "version_minor": 0
      },
      "text/plain": [
       "  0%|          | 0/152 [00:00<?, ?it/s]"
      ]
     },
     "metadata": {},
     "output_type": "display_data"
    }
   ],
   "source": [
    "networks_embed = {}\n",
    "\n",
    "for k, v in tqdm(networks_resampled.items(), total=len(networks_resampled)):\n",
    "    networks_embed[k] = autoencoder.encoder(torch.from_numpy(masker.transform(v)))"
   ]
  },
  {
   "cell_type": "code",
   "execution_count": 9,
   "id": "2fca2f01",
   "metadata": {},
   "outputs": [
    {
     "name": "stdout",
     "output_type": "stream",
     "text": [
      "Encoded text norm shape: torch.Size([384]) and latent: torch.Size([27501, 384])\n",
      "Top matches:\n",
      "1. Processing the acoustic effect of size in speech sounds\n",
      "2. Cortical dynamics of acoustic and phonological processing in speech perception.\n",
      "3. Preference for Audiovisual Speech Congruency in Superior Temporal Cortex.\n",
      "4. Hierarchical organization of human auditory cortex: evidence from acoustic invariance in the response to intelligible speech.\n",
      "5. Hemispheric specialization for processing auditory nonspeech stimuli.\n"
     ]
    }
   ],
   "source": [
    "# Look for abstract and titles related to a Auditory network\n",
    "abstract, titles = search_papers(networks_embed[\"AUD\"], show_titles=True)"
   ]
  },
  {
   "cell_type": "code",
   "execution_count": null,
   "id": "8f62bdba",
   "metadata": {},
   "outputs": [],
   "source": [
    "summary, titles = search_wiki(networks_embed[\"AUD\"], show_titles=True)"
   ]
  },
  {
   "cell_type": "code",
   "execution_count": 10,
   "id": "401467fa",
   "metadata": {},
   "outputs": [
    {
     "name": "stdout",
     "output_type": "stream",
     "text": [
      "Encoded text norm shape: torch.Size([384]) and latent: torch.Size([27501, 384])\n",
      "Top 10 publications for brain-derived input\n",
      "[1] Processing the acoustic effect of size in speech sounds\n",
      "[2] Cortical dynamics of acoustic and phonological processing in speech perception.\n",
      "[3] Preference for Audiovisual Speech Congruency in Superior Temporal Cortex.\n",
      "[4] Hierarchical organization of human auditory cortex: evidence from acoustic invariance in the response to intelligible speech.\n",
      "[5] Hemispheric specialization for processing auditory nonspeech stimuli.\n",
      "[6] Neural basis of auditory expectation within temporal cortex.\n",
      "[7] Cortical Plasticity after Cochlear Implantation\n",
      "[8] Whispering - The hidden side of auditory communication.\n",
      "[9] Altered cortical and subcortical connectivity due to infrasound administered near the hearing threshold - Evidence from fMRI.\n",
      "[10] Bilateral reorganization of posterior temporal cortices in post-lingual deafness  and its relation to cochlear implant outcome.\n",
      "LLM writing summary...\n",
      "LLM finished.\n",
      "### Overview\n",
      "\n",
      "The publications provide insights into various aspects of brain function and its interactions with acoustic signals, revealing distinct areas of specialization within the auditory cortex while also highlighting regions involved in higher-level processes such as phonological representation and emotional processing. They collectively emphasize hierarchical organization within the auditory system, lateralization effects, and neural plasticity following cochlear implantation.\n",
      "\n",
      "### Publication 1: Sensory Encoding of Acoustic Effect of Vocal Tract Length\n",
      "\n",
      "This study investigates how humans perceive the acoustic effect of vocal tract length (VTL), which reflects size information based on sound production. A mechanism involving a time-stabilized spectral scaling is proposed as the neural correlate for processing this sensory cue, with evidence pointing to the MGB and non-primary auditory cortex in planum temporale and anterior superior temporal gyrus being involved.\n",
      "\n",
      "### Publication 2: Cortical Dynamics of Acoustic and Phonological Processing\n",
      "\n",
      "This research supports the hierarchical model of auditory-phonological processing by showing that core auditory regions are sensitive to basic acoustic features, while downstream regions like left middle MTG respond to abstract phonological representations. The study also indicates modulation of low-level acoustic analysis by high-level phonological information.\n",
      "\n",
      "### Publication 3: Preference for Audiovisual Speech Congruency\n",
      "\n",
      "This work demonstrates preference in superior temporal cortex (STC) for audiovisual speech congruence, indicating that this area prefers simultaneous auditory and visual input supporting the same representation. This study offers evidence for a more complex interplay between low-level acoustic processing and high-level phonological representations.\n",
      "\n",
      "### Publication 4: Hierarchical Organization of Auditory Cortex\n",
      "\n",
      "This investigation supports hierarchical organization in human auditory cortex by showing higher sensitivity to acoustic variation within intelligible speech regions compared to unintelligible speech. The anterior superior temporal sulcus (aSTS) and posterior superior temporal sulcus (pSTS) were found more sensitive to whether speech was intelligible, reflecting the processing at different levels of abstraction.\n",
      "\n",
      "### Publication 5: Hemispheric Specialization for Auditory Nonspeech Stimuli\n",
      "\n",
      "This study reveals asymmetries in auditory processing between hemispheres, particularly in temporal and spectral domains. Increased variation in either domain evokes activity primarily in left hemisphere regions (Heschl's gyrus and posterior superior temporal sulcus) for temporal modulation and right hemisphere regions (superior temporal gyrus and anterior superior temporal sulcus) for spectral modulation.\n",
      "\n",
      "### Publication 6: Neural Basis of Auditory Expectation\n",
      "\n",
      "This study investigates the processing of unexpected sounds using fMRI, revealing increased activity in left temporal and insular cortices compared to expected sounds. The left middle temporal gyrus shows greater activation regardless of whether it is sounds or silence that are unexpected, suggesting involvement in auditory expectation.\n",
      "\n",
      "### Publication 7: Cortical Plasticity After Cochlear Implantation\n",
      "\n",
      "This investigation finds differential brain activity between pre- and postlingual hearing loss patients following cochlear implant (CI) surgery. Broca's area becomes active only for CI recipients with postlingual hearing loss, indicating that the left hemisphere is more involved in speech perception after language acquisition.\n",
      "\n",
      "### Publication 8: Neural Dynamics of Whispering\n",
      "\n",
      "This study quantifies the reduced information content of whispered voices and finds compensatory activation in auditory-frontal brain networks. Recognizing socio-affective cues from whispers requires additional processing resources compared to normal voice sounds, highlighting the challenge of deciphering meaning through altered sound quality.\n",
      "\n",
      "### Publication 9: Altered Connectivity due to Infrasound\n",
      "\n",
      "This investigation reveals changes in local connectivity within the right superior temporal gyrus (STG), anterior cingulate cortex (ACC), and right amygdala during exposure to near-threshold infrasound (IS). These changes suggest compensation for reduced sound quality but also raise concerns about potential pathogenic effects from prolonged exposure.\n",
      "\n",
      "### Publication 10: Bilateral Reorganization of Posterior Temporal Cortices in Post-Lingual Deafness\n",
      "\n",
      "This research shows that the right posterior superior temporal gyrus/supramarginal gyrus (PSTG/SMG) is abnormally active in post-lingual deafness, with compensatory responses in left PSTG/SMG for phonological processing. This reorganization suggests a specific takeover of the right hemisphere by phonological processing due to communication relevance.\n",
      "\n",
      "### Synthesis\n",
      "\n",
      "These studies collectively support hierarchical organization within auditory cortex and highlight regional specialization and plastic changes following different conditions such as hearing loss or cochlear implantation. They also underscore the role of lateralization effects and compensation mechanisms in adapting to altered acoustic signals. However, there are areas of conflicting findings regarding specific regions' roles and the extent of compensatory activity, necessitating further research to reconcile these divergent results.\n"
     ]
    },
    {
     "data": {
      "text/plain": [
       "\"### Overview\\n\\nThe publications provide insights into various aspects of brain function and its interactions with acoustic signals, revealing distinct areas of specialization within the auditory cortex while also highlighting regions involved in higher-level processes such as phonological representation and emotional processing. They collectively emphasize hierarchical organization within the auditory system, lateralization effects, and neural plasticity following cochlear implantation.\\n\\n### Publication 1: Sensory Encoding of Acoustic Effect of Vocal Tract Length\\n\\nThis study investigates how humans perceive the acoustic effect of vocal tract length (VTL), which reflects size information based on sound production. A mechanism involving a time-stabilized spectral scaling is proposed as the neural correlate for processing this sensory cue, with evidence pointing to the MGB and non-primary auditory cortex in planum temporale and anterior superior temporal gyrus being involved.\\n\\n### Publication 2: Cortical Dynamics of Acoustic and Phonological Processing\\n\\nThis research supports the hierarchical model of auditory-phonological processing by showing that core auditory regions are sensitive to basic acoustic features, while downstream regions like left middle MTG respond to abstract phonological representations. The study also indicates modulation of low-level acoustic analysis by high-level phonological information.\\n\\n### Publication 3: Preference for Audiovisual Speech Congruency\\n\\nThis work demonstrates preference in superior temporal cortex (STC) for audiovisual speech congruence, indicating that this area prefers simultaneous auditory and visual input supporting the same representation. This study offers evidence for a more complex interplay between low-level acoustic processing and high-level phonological representations.\\n\\n### Publication 4: Hierarchical Organization of Auditory Cortex\\n\\nThis investigation supports hierarchical organization in human auditory cortex by showing higher sensitivity to acoustic variation within intelligible speech regions compared to unintelligible speech. The anterior superior temporal sulcus (aSTS) and posterior superior temporal sulcus (pSTS) were found more sensitive to whether speech was intelligible, reflecting the processing at different levels of abstraction.\\n\\n### Publication 5: Hemispheric Specialization for Auditory Nonspeech Stimuli\\n\\nThis study reveals asymmetries in auditory processing between hemispheres, particularly in temporal and spectral domains. Increased variation in either domain evokes activity primarily in left hemisphere regions (Heschl's gyrus and posterior superior temporal sulcus) for temporal modulation and right hemisphere regions (superior temporal gyrus and anterior superior temporal sulcus) for spectral modulation.\\n\\n### Publication 6: Neural Basis of Auditory Expectation\\n\\nThis study investigates the processing of unexpected sounds using fMRI, revealing increased activity in left temporal and insular cortices compared to expected sounds. The left middle temporal gyrus shows greater activation regardless of whether it is sounds or silence that are unexpected, suggesting involvement in auditory expectation.\\n\\n### Publication 7: Cortical Plasticity After Cochlear Implantation\\n\\nThis investigation finds differential brain activity between pre- and postlingual hearing loss patients following cochlear implant (CI) surgery. Broca's area becomes active only for CI recipients with postlingual hearing loss, indicating that the left hemisphere is more involved in speech perception after language acquisition.\\n\\n### Publication 8: Neural Dynamics of Whispering\\n\\nThis study quantifies the reduced information content of whispered voices and finds compensatory activation in auditory-frontal brain networks. Recognizing socio-affective cues from whispers requires additional processing resources compared to normal voice sounds, highlighting the challenge of deciphering meaning through altered sound quality.\\n\\n### Publication 9: Altered Connectivity due to Infrasound\\n\\nThis investigation reveals changes in local connectivity within the right superior temporal gyrus (STG), anterior cingulate cortex (ACC), and right amygdala during exposure to near-threshold infrasound (IS). These changes suggest compensation for reduced sound quality but also raise concerns about potential pathogenic effects from prolonged exposure.\\n\\n### Publication 10: Bilateral Reorganization of Posterior Temporal Cortices in Post-Lingual Deafness\\n\\nThis research shows that the right posterior superior temporal gyrus/supramarginal gyrus (PSTG/SMG) is abnormally active in post-lingual deafness, with compensatory responses in left PSTG/SMG for phonological processing. This reorganization suggests a specific takeover of the right hemisphere by phonological processing due to communication relevance.\\n\\n### Synthesis\\n\\nThese studies collectively support hierarchical organization within auditory cortex and highlight regional specialization and plastic changes following different conditions such as hearing loss or cochlear implantation. They also underscore the role of lateralization effects and compensation mechanisms in adapting to altered acoustic signals. However, there are areas of conflicting findings regarding specific regions' roles and the extent of compensatory activity, necessitating further research to reconcile these divergent results.\""
      ]
     },
     "execution_count": 10,
     "metadata": {},
     "output_type": "execute_result"
    }
   ],
   "source": [
    "# LLM summary for related abstracts\n",
    "run_brain2text(networks_embed[\"AUD\"])"
   ]
  },
  {
   "cell_type": "code",
   "execution_count": null,
   "id": "cacd4731",
   "metadata": {},
   "outputs": [],
   "source": []
  }
 ],
 "metadata": {
  "kernelspec": {
   "display_name": "Python 3",
   "language": "python",
   "name": "python3"
  },
  "language_info": {
   "codemirror_mode": {
    "name": "ipython",
    "version": 3
   },
   "file_extension": ".py",
   "mimetype": "text/x-python",
   "name": "python",
   "nbconvert_exporter": "python",
   "pygments_lexer": "ipython3",
   "version": "3.12.11"
  }
 },
 "nbformat": 4,
 "nbformat_minor": 5
}
