{
 "cells": [
  {
   "cell_type": "code",
   "execution_count": null,
   "id": "d4f35c41",
   "metadata": {},
   "outputs": [],
   "source": [
    "import numpy as np\n",
    "import pandas as pd\n",
    "import torch\n",
    "from sklearn.model_selection import train_test_split\n",
    "\n",
    "import sys\n",
    "sys.path.append('/home/anon/repos/neurovlm/src/neurovlm')\n",
    "\n",
    "from neurovlm.data import get_data_dir\n",
    "from neurovlm.models import TextAligner\n",
    "from neurovlm.loss import InfoNCELoss\n",
    "from neurovlm.train import Trainer"
   ]
  },
  {
   "cell_type": "markdown",
   "id": "110a554e",
   "metadata": {},
   "source": [
    "# Load data"
   ]
  },
  {
   "cell_type": "code",
   "execution_count": 27,
   "id": "ece52b0a",
   "metadata": {},
   "outputs": [
    {
     "name": "stdout",
     "output_type": "stream",
     "text": [
      "Dataset: 20674 documents\n"
     ]
    }
   ],
   "source": [
    "# Load your data -- might require to update to the most recent data / latents\n",
    "neurovlm_dir = get_data_dir()\n",
    "latent_text_specter, pmids_neurovlm = torch.load(neurovlm_dir / \"recall/latent_specter2_neuro.pt\", weights_only=False).values()\n",
    "latent_neuro = torch.load(neurovlm_dir / \"recall/new_latent_neuro.pt\", map_location='cuda')\n",
    "df = pd.read_parquet(neurovlm_dir / \"recall/publications_more.parquet\")\n",
    "\n",
    "# Filter to common subset\n",
    "pmids = np.load(neurovlm_dir / \"recall/pmids_neurocontext.npy\")\n",
    "mask = np.array(df['pmid'].isin(pmids))\n",
    "latent_neuro = latent_neuro[mask]\n",
    "latent_text_specter = latent_text_specter[mask]\n",
    "\n",
    "print(f\"Dataset: {len(latent_neuro)} documents\")"
   ]
  },
  {
   "cell_type": "code",
   "execution_count": 28,
   "id": "eea052a7",
   "metadata": {},
   "outputs": [
    {
     "name": "stdout",
     "output_type": "stream",
     "text": [
      "NeuroVLM training complete\n"
     ]
    }
   ],
   "source": [
    "# train / test / val splits\n",
    "train_idx, test_idx = train_test_split(np.arange(len(latent_neuro)), test_size=0.2, random_state=42)\n",
    "train_idx, val_idx = train_test_split(train_idx, test_size=0.1, random_state=42)\n",
    "\n",
    "# Train projection head\n",
    "trainer = Trainer(\n",
    "    TextAligner(seed=42),\n",
    "    batch_size=4096,\n",
    "    n_epochs=100,\n",
    "    lr=1e-4,\n",
    "    loss_fn=InfoNCELoss(),\n",
    "    optimizer=torch.optim.AdamW,\n",
    "    X_val=latent_text_specter[val_idx],\n",
    "    y_val=latent_neuro[val_idx],\n",
    "    device=\"auto\",\n",
    "    verbose=False\n",
    ")\n",
    "\n",
    "trainer.fit(\n",
    "    latent_text_specter[train_idx].clone(),\n",
    "    latent_neuro[train_idx].clone()\n",
    ")\n",
    "\n",
    "print(\"NeuroVLM training complete\")"
   ]
  },
  {
   "cell_type": "code",
   "execution_count": 30,
   "id": "26293c78",
   "metadata": {},
   "outputs": [
    {
     "name": "stdout",
     "output_type": "stream",
     "text": [
      "=== COMPARISON RESULTS ===\n"
     ]
    },
    {
     "data": {
      "text/html": [
       "<div>\n",
       "<style scoped>\n",
       "    .dataframe tbody tr th:only-of-type {\n",
       "        vertical-align: middle;\n",
       "    }\n",
       "\n",
       "    .dataframe tbody tr th {\n",
       "        vertical-align: top;\n",
       "    }\n",
       "\n",
       "    .dataframe thead th {\n",
       "        text-align: right;\n",
       "    }\n",
       "</style>\n",
       "<table border=\"1\" class=\"dataframe\">\n",
       "  <thead>\n",
       "    <tr style=\"text-align: right;\">\n",
       "      <th></th>\n",
       "      <th>Method</th>\n",
       "      <th>Accuracy</th>\n",
       "    </tr>\n",
       "  </thead>\n",
       "  <tbody>\n",
       "    <tr>\n",
       "      <th>0</th>\n",
       "      <td>Random Chance</td>\n",
       "      <td>0.50</td>\n",
       "    </tr>\n",
       "    <tr>\n",
       "      <th>1</th>\n",
       "      <td>NeuroQuery</td>\n",
       "      <td>0.72</td>\n",
       "    </tr>\n",
       "    <tr>\n",
       "      <th>2</th>\n",
       "      <td>NeuroVLM</td>\n",
       "      <td>0.80</td>\n",
       "    </tr>\n",
       "  </tbody>\n",
       "</table>\n",
       "</div>"
      ],
      "text/plain": [
       "          Method  Accuracy\n",
       "0  Random Chance      0.50\n",
       "1     NeuroQuery      0.72\n",
       "2       NeuroVLM      0.80"
      ]
     },
     "execution_count": 30,
     "metadata": {},
     "output_type": "execute_result"
    }
   ],
   "source": [
    "def document_matching_accuracy(brain_embeddings, text_embeddings, n_trials=1000):\n",
    "    \"\"\"\n",
    "    NeuroQuery's decoding experiment: 2-alternative forced choice.\n",
    "    For each document, test if predicted brain pattern is closer to correct\n",
    "    brain pattern than to a random one.\n",
    "    \"\"\"\n",
    "    n_docs = len(brain_embeddings)\n",
    "    correct_matches = 0\n",
    "\n",
    "    # Normalize embeddings\n",
    "    brain_norm = brain_embeddings / np.linalg.norm(brain_embeddings, axis=1, keepdims=True)\n",
    "    text_norm = text_embeddings / np.linalg.norm(text_embeddings, axis=1, keepdims=True)\n",
    "\n",
    "    for i in range(min(n_trials, n_docs)):\n",
    "        # Get text and correct brain for document i\n",
    "        text_pred = text_norm[i]\n",
    "        correct_brain = brain_norm[i]\n",
    "\n",
    "        # Get random brain as negative example\n",
    "        random_idx = np.random.choice([j for j in range(n_docs) if j != i])\n",
    "        random_brain = brain_norm[random_idx]\n",
    "\n",
    "        # Compute similarities\n",
    "        sim_correct = np.dot(text_pred, correct_brain)\n",
    "        sim_random = np.dot(text_pred, random_brain)\n",
    "\n",
    "        # Check if text is closer to correct brain than random brain\n",
    "        if sim_correct > sim_random:\n",
    "            correct_matches += 1\n",
    "\n",
    "    return correct_matches / min(n_trials, n_docs)\n",
    "\n",
    "# Test NeuroVLM\n",
    "with torch.no_grad():\n",
    "    brain_test = latent_neuro[test_idx].cpu().numpy()\n",
    "    model_device = next(trainer.model.parameters()).device\n",
    "    text_aligned = trainer.model(latent_text_specter[test_idx].to(model_device)).cpu().numpy()\n",
    "\n",
    "neurovlm_accuracy = document_matching_accuracy(brain_test, text_aligned, n_trials=1000)\n",
    "\n",
    "results = {\n",
    "    'Method': ['Random Chance', 'NeuroQuery', 'NeuroVLM'],\n",
    "    'Accuracy': [0.500, 0.720, neurovlm_accuracy]\n",
    "}\n",
    "\n",
    "results_df = pd.DataFrame(results)\n",
    "print(\"=== COMPARISON RESULTS ===\")\n",
    "results_df.round(3)"
   ]
  },
  {
   "cell_type": "code",
   "execution_count": null,
   "id": "c55786a5",
   "metadata": {},
   "outputs": [],
   "source": []
  }
 ],
 "metadata": {
  "kernelspec": {
   "display_name": ".venv",
   "language": "python",
   "name": "python3"
  },
  "language_info": {
   "codemirror_mode": {
    "name": "ipython",
    "version": 3
   },
   "file_extension": ".py",
   "mimetype": "text/x-python",
   "name": "python",
   "nbconvert_exporter": "python",
   "pygments_lexer": "ipython3",
   "version": "3.12.8"
  }
 },
 "nbformat": 4,
 "nbformat_minor": 5
}
