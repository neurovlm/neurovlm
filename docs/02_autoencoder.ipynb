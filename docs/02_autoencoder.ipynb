{
 "cells": [
  {
   "cell_type": "code",
   "execution_count": 51,
   "id": "9464703a-db53-4f6b-bbef-5c3b41b5ebf7",
   "metadata": {},
   "outputs": [],
   "source": [
    "import numpy as np\n",
    "import pandas as pd\n",
    "from sklearn.model_selection import train_test_split\n",
    "\n",
    "import torch\n",
    "from torch import nn\n",
    "\n",
    "import nibabel as nib\n",
    "from nilearn import maskers\n",
    "from nilearn.plotting import plot_stat_map\n",
    "from neurovlm.data import fetch_data\n",
    "\n",
    "from neurovlm.data import fetch_data\n",
    "from neurovlm.models import NeuroAutoEncoder\n",
    "from neurovlm.train import Trainer, which_device\n",
    "device = which_device()"
   ]
  },
  {
   "cell_type": "markdown",
   "id": "3caab606-6a69-4e53-be20-0db092d1a989",
   "metadata": {},
   "source": [
    "# Autoencoder\n",
    "\n",
    "The first step is to reduce the dimensionality of the 28k MNI space neuro vector. Several work uses difumo. Instead, we use an autoencoder to map from $d=28,000$ to a $k=384$ latent space. "
   ]
  },
  {
   "cell_type": "markdown",
   "id": "1498bc0c-61ed-41ca-ac4a-ddb8278957b5",
   "metadata": {},
   "source": [
    "## Load Neurovectors\n",
    "\n",
    "Results from the coordinate smoothing notebook."
   ]
  },
  {
   "cell_type": "code",
   "execution_count": 52,
   "id": "05772c73",
   "metadata": {},
   "outputs": [],
   "source": [
    "data_dir = fetch_data()\n",
    "\n",
    "neuro_vectors, pmids = torch.load(\n",
    "    data_dir / \"neuro_vectors.pt\", weights_only=False\n",
    ").values()"
   ]
  },
  {
   "cell_type": "code",
   "execution_count": 53,
   "id": "3f7bfa7e",
   "metadata": {},
   "outputs": [],
   "source": [
    "df_pubs = pd.read_parquet(data_dir / \"publications_more.parquet\")\n",
    "df_coords = pd.read_parquet(data_dir / \"coordinates_more.parquet\")"
   ]
  },
  {
   "cell_type": "code",
   "execution_count": 54,
   "id": "a0e71d90",
   "metadata": {},
   "outputs": [],
   "source": [
    "coord_counts = df_coords.groupby(\"pmid\")[\"doi\"].count()\n",
    "pmids_less = coord_counts[coord_counts <= 100].index\n",
    "mask = pd.Series(pmids).isin(pmids_less).values\n",
    "neuro_vectors = neuro_vectors[mask]"
   ]
  },
  {
   "cell_type": "markdown",
   "id": "c8451bc2-b73f-4598-9110-4caae3aed647",
   "metadata": {},
   "source": [
    "## Training\n",
    "\n",
    "Train an autoencoder on the neuro-vectors.\n",
    "\n",
    "1. Encoder: Neuro-vector to low-dimensional (384) latent vector / embedding space\n",
    "2. Decoder: Latent vector to produces MNI space predictions.\n",
    "\n",
    "Training is complete in two stages:\n",
    "\n",
    "1. Initial training anywhere neurovectors > 0\n",
    "2. Additional training to shrink the size of activations closer to targets"
   ]
  },
  {
   "cell_type": "code",
   "execution_count": 55,
   "id": "0b36082c-e9bc-405e-915b-e56583527aa3",
   "metadata": {},
   "outputs": [],
   "source": [
    "# Train/test/validation split\n",
    "inds = torch.arange(len(neuro_vectors))\n",
    "train_inds, test_inds = train_test_split(\n",
    "    inds, train_size=0.8, random_state=0\n",
    ")\n",
    "test_inds, val_inds = train_test_split(\n",
    "    test_inds, train_size=0.5, random_state=1\n",
    ")"
   ]
  },
  {
   "cell_type": "code",
   "execution_count": 56,
   "id": "499552b5-9477-4eb5-b137-fd0e3c8d8a56",
   "metadata": {
    "scrolled": true
   },
   "outputs": [
    {
     "name": "stdout",
     "output_type": "stream",
     "text": [
      "Epoch: -1, val loss: 0.69321\n",
      "Epoch: 0, val loss: 0.32754\n",
      "Epoch: 1, val loss: 0.29923\n",
      "Epoch: 2, val loss: 0.27754\n",
      "Epoch: 3, val loss: 0.26455\n",
      "Epoch: 4, val loss: 0.25265\n",
      "Epoch: 5, val loss: 0.24298\n",
      "Epoch: 6, val loss: 0.23511\n",
      "Epoch: 7, val loss: 0.22585\n",
      "Epoch: 8, val loss: 0.21995\n",
      "Epoch: 9, val loss: 0.21323\n"
     ]
    }
   ],
   "source": [
    "# Initial training on hard threshold targets\n",
    "neuro_vectors_bin = neuro_vectors.clone()\n",
    "neuro_vectors_bin[neuro_vectors_bin > 0.0] = 1.0\n",
    "\n",
    "trainer = Trainer(\n",
    "    NeuroAutoEncoder(seed=0, out=\"logit\"),\n",
    "    n_epochs=10,\n",
    "    batch_size=256,\n",
    "    lr=1e-3,\n",
    "    loss_fn=nn.BCEWithLogitsLoss(),\n",
    "    optimizer=torch.optim.AdamW,\n",
    "    X_val=neuro_vectors_bin[val_inds],\n",
    "    device=\"auto\"\n",
    ")\n",
    "\n",
    "# Fit\n",
    "trainer.fit(neuro_vectors_bin[train_inds])\n",
    "\n",
    "# Save\n",
    "trainer.save(data_dir / \"autoencoder_init.pt\")\n",
    "\n",
    "# Unpack\n",
    "autoencoder_init = trainer.model\n",
    "# Epoch: 9,  val loss:  0.69321 (initial) -> 0.22368 (current)"
   ]
  },
  {
   "cell_type": "code",
   "execution_count": null,
   "id": "43145ff2",
   "metadata": {},
   "outputs": [],
   "source": [
    "# autoencoder_init = torch.load(data_dir / \"autoencoder_init.pt\", weights_only=False)"
   ]
  },
  {
   "cell_type": "code",
   "execution_count": 57,
   "id": "0129047a",
   "metadata": {},
   "outputs": [
    {
     "name": "stdout",
     "output_type": "stream",
     "text": [
      "Epoch: -1, val loss: 0.12954\n",
      "Epoch: 0, val loss: 0.12045\n",
      "Epoch: 1, val loss: 0.11911\n",
      "Epoch: 2, val loss: 0.11828\n",
      "Epoch: 3, val loss: 0.11758\n",
      "Epoch: 4, val loss: 0.11705\n",
      "Epoch: 5, val loss: 0.11663\n",
      "Epoch: 6, val loss: 0.11623\n",
      "Epoch: 7, val loss: 0.11583\n",
      "Epoch: 8, val loss: 0.11565\n",
      "Epoch: 9, val loss: 0.11533\n",
      "Epoch: 10, val loss: 0.11507\n",
      "Epoch: 11, val loss: 0.11491\n",
      "Epoch: 12, val loss: 0.11471\n",
      "Epoch: 13, val loss: 0.11457\n",
      "Epoch: 14, val loss: 0.11444\n",
      "Epoch: 15, val loss: 0.11435\n",
      "Epoch: 16, val loss: 0.11422\n",
      "Epoch: 17, val loss: 0.11417\n",
      "Epoch: 18, val loss: 0.11411\n",
      "Epoch: 19, val loss: 0.11389\n"
     ]
    }
   ],
   "source": [
    "# Additional training on tighter thresholded targets\n",
    "neuro_vectors_bin = neuro_vectors.clone()\n",
    "neuro_vectors_bin[neuro_vectors_bin > 0.001] = 1.0\n",
    "\n",
    "trainer = Trainer(\n",
    "    autoencoder_init,\n",
    "    n_epochs=20,\n",
    "    batch_size=256,\n",
    "    lr=1e-4,\n",
    "    loss_fn=nn.BCEWithLogitsLoss(),\n",
    "    optimizer=torch.optim.AdamW,\n",
    "    X_val=neuro_vectors_bin[val_inds],\n",
    "    device=\"auto\"\n",
    ")\n",
    "\n",
    "# Fit\n",
    "trainer.fit(neuro_vectors_bin[train_inds])\n",
    "\n",
    "# Save\n",
    "trainer.save(data_dir / \"autoencoder_sparse.pt\")\n",
    "\n",
    "# Unpack\n",
    "autoencoder_soft = trainer.model\n",
    "# Epoch: 19,  val loss:  0.13086 (initial) -> 0.11747 (current)"
   ]
  },
  {
   "cell_type": "code",
   "execution_count": 58,
   "id": "d0717b17-d165-4bb3-9bbc-5141b5705594",
   "metadata": {},
   "outputs": [],
   "source": [
    "# Skip above if previously trained\n",
    "autoencoder = torch.load(\n",
    "   data_dir / \"autoencoder_sparse.pt\", weights_only=False\n",
    ").to(device)"
   ]
  },
  {
   "cell_type": "markdown",
   "id": "e57e56fd",
   "metadata": {},
   "source": [
    "## Save Latent Vectors"
   ]
  },
  {
   "cell_type": "code",
   "execution_count": 59,
   "id": "52f554ce",
   "metadata": {},
   "outputs": [],
   "source": [
    "# Encode neuro vectors\n",
    "with torch.no_grad():\n",
    "    latent_neuro = autoencoder.encoder(neuro_vectors_bin.to(\"mps\")).detach()"
   ]
  },
  {
   "cell_type": "code",
   "execution_count": 60,
   "id": "d98e9c4e",
   "metadata": {},
   "outputs": [],
   "source": [
    "torch.save(dict(latent=latent_neuro, pmid=pmids_less), data_dir / \"latent_neuro_sparse.pt\")"
   ]
  },
  {
   "cell_type": "markdown",
   "id": "1aa0406b",
   "metadata": {},
   "source": [
    "## Results\n",
    "\n",
    "Plot an example."
   ]
  },
  {
   "cell_type": "code",
   "execution_count": 61,
   "id": "40823b93",
   "metadata": {},
   "outputs": [],
   "source": [
    "import matplotlib.pyplot as plt\n",
    "\n",
    "data_dir = fetch_data()\n",
    "mask_arrays = np.load(f\"{data_dir}/mask.npz\", allow_pickle=True)\n",
    "mask_img = nib.Nifti1Image(mask_arrays[\"mask\"].astype(float),  mask_arrays[\"affine\"])\n",
    "masker = maskers.NiftiMasker(mask_img=mask_img, dtype=np.float32).fit()\n",
    "\n",
    "neuro_vectors_bin = neuro_vectors.clone()\n",
    "neuro_vectors_bin[neuro_vectors_bin > 0.001] = 1.0"
   ]
  },
  {
   "cell_type": "code",
   "execution_count": 62,
   "id": "b2ae0ad4",
   "metadata": {},
   "outputs": [
    {
     "data": {
      "image/png": "[encoded data removed]",
      "text/plain": [
       "<Figure size 800x400 with 10 Axes>"
      ]
     },
     "metadata": {},
     "output_type": "display_data"
    }
   ],
   "source": [
    "# Prediction\n",
    "fig, axes = plt.subplots(nrows=2, ncols=1, figsize=(8, 4))\n",
    "idx = 3\n",
    "out = torch.sigmoid(autoencoder.cpu()(neuro_vectors_bin[val_inds][idx]))\n",
    "plot_stat_map(masker.inverse_transform(out.cpu().detach()), cut_coords=np.array([8, 4, 60]),\n",
    "              cmap=\"cold_hot\", vmin=-1, vmax=1, threshold=0.1, draw_cross=False, axes=axes[0]);\n",
    "\n",
    "# ALEKernel target\n",
    "plot_stat_map(masker.inverse_transform(neuro_vectors[val_inds][idx]), cut_coords=np.array([8, 4, 60]),\n",
    "              cmap=\"cold_hot\", vmin=-1, vmax=1, threshold=0., draw_cross=False, axes=axes[1]);"
   ]
  }
 ],
 "metadata": {
  "kernelspec": {
   "display_name": ".env",
   "language": "python",
   "name": "python3"
  },
  "language_info": {
   "codemirror_mode": {
    "name": "ipython",
    "version": 3
   },
   "file_extension": ".py",
   "mimetype": "text/x-python",
   "name": "python",
   "nbconvert_exporter": "python",
   "pygments_lexer": "ipython3",
   "version": "3.12.11"
  }
 },
 "nbformat": 4,
 "nbformat_minor": 5
}
