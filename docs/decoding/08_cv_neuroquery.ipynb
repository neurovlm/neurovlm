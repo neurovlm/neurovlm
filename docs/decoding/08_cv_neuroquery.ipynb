{
 "cells": [
  {
   "cell_type": "code",
   "execution_count": null,
   "id": "71b8d588",
   "metadata": {},
   "outputs": [],
   "source": [
    "import pathlib\n",
    "import numpy as np\n",
    "from scipy import sparse\n",
    "import pandas as pd\n",
    "from sklearn.model_selection import KFold\n",
    "from scipy.stats import pearsonr\n",
    "from nilearn import plotting, maskers\n",
    "from neuroquery import datasets\n",
    "from neuroquery.img_utils import coordinates_to_maps\n",
    "from neuroquery.smoothed_regression import SmoothedRegression\n",
    "from neuroquery.tokenization import TextVectorizer\n",
    "from neuroquery.encoding import NeuroQueryModel\n",
    "\n",
    "from sklearn.model_selection import KFold\n",
    "from neurovlm.loss import compute_metrics\n",
    "from tqdm.notebook import tqdm\n",
    "\n",
    "import sys\n",
    "# sys.path.append('/home/jerjes/repos/neurovlm/src/neurovlm')\n",
    "sys.path.append('/Users/ryanhammonds/projects/neurovlm')\n",
    "\n",
    "import torch\n",
    "from neurovlm.models import TextAligner\n",
    "from neurovlm.train import Trainer\n",
    "\n",
    "from neurovlm.data import get_data_dir\n",
    "import nibabel as nib\n",
    "import numpy as np"
   ]
  },
  {
   "cell_type": "markdown",
   "id": "5a919b94",
   "metadata": {},
   "source": [
    "# Neuroquery"
   ]
  },
  {
   "cell_type": "code",
   "execution_count": 2,
   "id": "b180d8a2",
   "metadata": {},
   "outputs": [
    {
     "name": "stdout",
     "output_type": "stream",
     "text": [
      "Loaded 13459 studies\n"
     ]
    }
   ],
   "source": [
    "# Load NeuroQuery data\n",
    "data_dir = pathlib.Path(datasets.fetch_neuroquery_model())\n",
    "corpus_metadata = pd.read_csv(str(data_dir / \"corpus_metadata.csv\"))\n",
    "vectorizer = TextVectorizer.from_vocabulary_file(str(data_dir / \"vocabulary.csv\"))\n",
    "tfidf = sparse.load_npz(str(data_dir / \"corpus_tfidf.npz\"))\n",
    "coordinates = pd.read_csv(datasets.fetch_peak_coordinates())\n",
    "print(f\"Loaded {corpus_metadata.shape[0]} studies\")"
   ]
  },
  {
   "cell_type": "code",
   "execution_count": null,
   "id": "9ebb9bcf",
   "metadata": {},
   "outputs": [],
   "source": [
    "# # coords to brain maps\n",
    "# brain_maps, masker = coordinates_to_maps(\n",
    "#     coordinates, target_affine=(6, 6, 6), fwhm=9.0\n",
    "# )\n",
    "# brain_maps = brain_maps[(brain_maps.values != 0).any(axis=1)]\n",
    "\n",
    "# # Align TFIDF and brain maps (exactly like their notebook)\n",
    "# pmids = brain_maps.index.intersection(corpus_metadata[\"pmid\"])\n",
    "# rindex = pd.Series(np.arange(corpus_metadata.shape[0]), index=corpus_metadata[\"pmid\"])\n",
    "# tfidf_final = tfidf.toarray()[rindex.loc[pmids].values, :]\n",
    "# brain_maps_final = brain_maps.loc[pmids, :].values\n",
    "\n",
    "# print(f\"Final dataset: {len(pmids)} studies\")\n",
    "# print(f\"TFIDF shape: {tfidf_final.shape}\")\n",
    "# print(f\"Brain maps shape: {brain_maps_final.shape}\")\n",
    "\n",
    "# These were pre-computed from the neurocontext pmid set\n",
    "neurovlm_data_dir = pathlib.Path(get_data_dir())\n",
    "\n",
    "mask_img = nib.load(neurovlm_data_dir / \"neuroquery_masker.nii.gz\")\n",
    "brain_maps = pd.DataFrame(np.load(neurovlm_data_dir / \"brain_maps.npy\"))\n",
    "pmids_neurocontext = np.load(neurovlm_data_dir / \"pmids_neurocontext.npy\")\n",
    "\n",
    "brain_maps.index = pmids_neurocontext\n",
    "masker = maskers.NiftiMasker(mask_img)\n",
    "masker.fit()"
   ]
  },
  {
   "cell_type": "code",
   "execution_count": 4,
   "id": "b86589d9",
   "metadata": {},
   "outputs": [],
   "source": [
    "# Align TFIDF and brain maps (exactly like their notebook)\n",
    "pmids = brain_maps.index.intersection(corpus_metadata[\"pmid\"])\n",
    "rindex = pd.Series(np.arange(corpus_metadata.shape[0]), index=corpus_metadata[\"pmid\"])\n",
    "tfidf_final = tfidf.toarray()[rindex.loc[pmids].values, :]\n",
    "brain_maps_final = brain_maps.loc[pmids, :].values\n",
    "# brain_maps.to_csv('neuroquery_brain_maps.csv')\n",
    "\n",
    "# filer out neurcontext specific ids\n",
    "brain_maps = brain_maps[brain_maps.index.isin(pmids)]"
   ]
  },
  {
   "cell_type": "code",
   "execution_count": 5,
   "id": "19aec839",
   "metadata": {},
   "outputs": [
    {
     "name": "stdout",
     "output_type": "stream",
     "text": [
      "NeuroQuery corpus: 13459 studies\n",
      "NeuroVLM publications: 30826 studies\n",
      "Common PMIDs: 13459 studies\n"
     ]
    }
   ],
   "source": [
    "from neurovlm.data import get_data_dir\n",
    "\n",
    "neurovlm_dir = get_data_dir()\n",
    "publications_df = pd.read_parquet(neurovlm_dir / \"publications_more.parquet\")\n",
    "\n",
    "print(f\"NeuroQuery corpus: {corpus_metadata.shape[0]} studies\")\n",
    "print(f\"NeuroVLM publications: {publications_df.shape[0]} studies\")\n",
    "\n",
    "# Find common PMIDs\n",
    "nq_pmids = set(corpus_metadata['pmid'])\n",
    "your_pmids = set(publications_df['pmid'])\n",
    "common_pmids = nq_pmids & your_pmids\n",
    "print(f\"Common PMIDs: {len(common_pmids)} studies\")"
   ]
  },
  {
   "cell_type": "code",
   "execution_count": null,
   "id": "303e942a",
   "metadata": {},
   "outputs": [],
   "source": [
    "publications_matched = publications_df[publications_df['pmid'].isin(pmids)].copy()\n",
    "publications_matched = publications_matched.set_index('pmid').loc[pmids].reset_index()\n",
    "\n",
    "# Create query text\n",
    "def create_query_text(row):\n",
    "    name = str(row['name']) if pd.notna(row['name']) else \"\"\n",
    "    description = str(row['description']) if pd.notna(row['description']) else \"\"\n",
    "    if name and description:\n",
    "        return f\"{name} [SEP] {description}\"\n",
    "    elif name:\n",
    "        return name\n",
    "    else:\n",
    "        return \"brain activation study\"\n",
    "\n",
    "publications_matched['query_text'] = publications_matched.apply(create_query_text, axis=1)\n",
    "\n",
    "corpus_metadata.rename(columns={\"index\": \"pmid\"}, inplace=True)\n",
    "corpus_metadata = corpus_metadata.set_index(\"pmid\").reset_index()"
   ]
  },
  {
   "cell_type": "code",
   "execution_count": 9,
   "id": "4007e3af",
   "metadata": {},
   "outputs": [
    {
     "name": "stdout",
     "output_type": "stream",
     "text": [
      "Fitting smoothed regression model on 13459 samples...\n",
      "keeping 232 features\n"
     ]
    },
    {
     "data": {
      "application/vnd.jupyter.widget-view+json": {
       "model_id": "e37b657fb205445db8b022b210608ae7",
       "version_major": 2,
       "version_minor": 0
      },
      "text/plain": [
       "  0%|          | 0/1346 [00:00<?, ?it/s]"
      ]
     },
     "metadata": {},
     "output_type": "display_data"
    },
    {
     "name": "stderr",
     "output_type": "stream",
     "text": [
      "/Users/ryanhammonds/projects/neurovlm/back_gh/neurovlm/.env/lib/python3.12/site-packages/numpy/lib/function_base.py:2897: RuntimeWarning: invalid value encountered in divide\n",
      "  c /= stddev[:, None]\n",
      "/Users/ryanhammonds/projects/neurovlm/back_gh/neurovlm/.env/lib/python3.12/site-packages/numpy/lib/function_base.py:2898: RuntimeWarning: invalid value encountered in divide\n",
      "  c /= stddev[None, :]\n",
      "/Users/ryanhammonds/projects/neurovlm/back_gh/neurovlm/.env/lib/python3.12/site-packages/numpy/lib/function_base.py:2897: RuntimeWarning: invalid value encountered in divide\n",
      "  c /= stddev[:, None]\n",
      "/Users/ryanhammonds/projects/neurovlm/back_gh/neurovlm/.env/lib/python3.12/site-packages/numpy/lib/function_base.py:2898: RuntimeWarning: invalid value encountered in divide\n",
      "  c /= stddev[None, :]\n",
      "/Users/ryanhammonds/projects/neurovlm/back_gh/neurovlm/.env/lib/python3.12/site-packages/numpy/lib/function_base.py:2897: RuntimeWarning: invalid value encountered in divide\n",
      "  c /= stddev[:, None]\n",
      "/Users/ryanhammonds/projects/neurovlm/back_gh/neurovlm/.env/lib/python3.12/site-packages/numpy/lib/function_base.py:2898: RuntimeWarning: invalid value encountered in divide\n",
      "  c /= stddev[None, :]\n",
      "/Users/ryanhammonds/projects/neurovlm/back_gh/neurovlm/.env/lib/python3.12/site-packages/numpy/lib/function_base.py:2897: RuntimeWarning: invalid value encountered in divide\n",
      "  c /= stddev[:, None]\n",
      "/Users/ryanhammonds/projects/neurovlm/back_gh/neurovlm/.env/lib/python3.12/site-packages/numpy/lib/function_base.py:2898: RuntimeWarning: invalid value encountered in divide\n",
      "  c /= stddev[None, :]\n",
      "/Users/ryanhammonds/projects/neurovlm/back_gh/neurovlm/.env/lib/python3.12/site-packages/numpy/lib/function_base.py:2897: RuntimeWarning: invalid value encountered in divide\n",
      "  c /= stddev[:, None]\n",
      "/Users/ryanhammonds/projects/neurovlm/back_gh/neurovlm/.env/lib/python3.12/site-packages/numpy/lib/function_base.py:2898: RuntimeWarning: invalid value encountered in divide\n",
      "  c /= stddev[None, :]\n",
      "/Users/ryanhammonds/projects/neurovlm/back_gh/neurovlm/.env/lib/python3.12/site-packages/numpy/lib/function_base.py:2897: RuntimeWarning: invalid value encountered in divide\n",
      "  c /= stddev[:, None]\n",
      "/Users/ryanhammonds/projects/neurovlm/back_gh/neurovlm/.env/lib/python3.12/site-packages/numpy/lib/function_base.py:2898: RuntimeWarning: invalid value encountered in divide\n",
      "  c /= stddev[None, :]\n",
      "/Users/ryanhammonds/projects/neurovlm/back_gh/neurovlm/.env/lib/python3.12/site-packages/numpy/lib/function_base.py:2897: RuntimeWarning: invalid value encountered in divide\n",
      "  c /= stddev[:, None]\n",
      "/Users/ryanhammonds/projects/neurovlm/back_gh/neurovlm/.env/lib/python3.12/site-packages/numpy/lib/function_base.py:2898: RuntimeWarning: invalid value encountered in divide\n",
      "  c /= stddev[None, :]\n"
     ]
    }
   ],
   "source": [
    "kf = KFold(n_splits=10, shuffle=True, random_state=0)\n",
    "\n",
    "for train_inds, test_inds in kf.split(list(np.arange(len(brain_maps_final)))):\n",
    "\n",
    "    regressor = SmoothedRegression(alphas=np.array([1.0, 10.0, 100.0]))\n",
    "    print(\"Fitting smoothed regression model on {} samples...\".format(tfidf.shape[0]))\n",
    "    _ = regressor.fit(tfidf_final[train_inds], brain_maps_final[train_inds])\n",
    "\n",
    "    encoder = NeuroQueryModel(\n",
    "        vectorizer,\n",
    "        regressor,\n",
    "        mask_img,\n",
    "        corpus_info={\n",
    "            \"tfidf\": sparse.csr_matrix(tfidf),\n",
    "            \"metadata\": corpus_metadata,\n",
    "        },\n",
    "    )\n",
    "\n",
    "    # Metrics\n",
    "    r = np.zeros(len(test_inds))\n",
    "    mse = np.zeros((len(test_inds), 3))\n",
    "    ssim = np.zeros((len(test_inds), 3))\n",
    "    dice = np.zeros((len(test_inds), 3))\n",
    "\n",
    "    for i in tqdm(range(len(test_inds)), total=len(test_inds)):\n",
    "        img_pred = encoder(publications_matched.iloc[test_inds[i]][\"query_text\"])[\"brain_map\"]\n",
    "        vec_pred = masker.transform(img_pred)\n",
    "        vec_true = brain_maps_final[test_inds[i]:test_inds[i]+1]\n",
    "\n",
    "        mse[i], ssim[i], dice[i] = compute_metrics(vec_true, vec_pred)\n",
    "        r[i] = np.corrcoef(vec_true, vec_pred)[0][1]\n",
    "\n",
    "    break"
   ]
  },
  {
   "cell_type": "code",
   "execution_count": null,
   "id": "15941661",
   "metadata": {},
   "outputs": [],
   "source": [
    "import seaborn as sns\n",
    "import matplotlib.pyplot as plt\n",
    "sns.set_style(\"whitegrid\")"
   ]
  },
  {
   "cell_type": "code",
   "execution_count": null,
   "id": "f7894570",
   "metadata": {},
   "outputs": [
    {
     "data": {
      "image/png": "[encoded data removed]",
      "text/plain": [
       "<Figure size 1600x400 with 4 Axes>"
      ]
     },
     "metadata": {},
     "output_type": "display_data"
    }
   ],
   "source": [
    "fig, axes = plt.subplots(1, 4, figsize=(16, 4))\n",
    "\n",
    "sns.boxplot(mse[:, 0], ax=axes[0])\n",
    "sns.boxplot(ssim[:, 0], ax=axes[1])\n",
    "sns.boxplot(dice[:, 0], ax=axes[2])\n",
    "sns.boxplot(r, ax=axes[3])\n",
    "\n",
    "axes[0].set_title('Mean Squared Error')\n",
    "axes[0].set_ylabel('MSE')\n",
    "axes[1].set_title('Structural Similarity Index')\n",
    "axes[1].set_ylabel('SSIM')\n",
    "axes[2].set_title('Dice Score')\n",
    "axes[2].set_ylabel('Dice')\n",
    "axes[3].set_title('Correlation Coefficient')\n",
    "axes[3].set_ylabel('Correlation')\n",
    "plt.tight_layout()\n",
    "plt.savefig(\"/Users/ryanhammonds/Desktop/neuroquery_decoding.png\")"
   ]
  }
 ],
 "metadata": {
  "kernelspec": {
   "display_name": ".env",
   "language": "python",
   "name": "python3"
  },
  "language_info": {
   "codemirror_mode": {
    "name": "ipython",
    "version": 3
   },
   "file_extension": ".py",
   "mimetype": "text/x-python",
   "name": "python",
   "nbconvert_exporter": "python",
   "pygments_lexer": "ipython3",
   "version": "3.12.11"
  }
 },
 "nbformat": 4,
 "nbformat_minor": 5
}
