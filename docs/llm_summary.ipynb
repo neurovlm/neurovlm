{
 "cells": [
  {
   "cell_type": "code",
   "execution_count": null,
   "id": "6bba59bd",
   "metadata": {},
   "outputs": [],
   "source": [
    "import ollama\n",
    "from ollama import chat\n",
    "from pydantic import BaseModel\n",
    "import re\n",
    "import pandas as pd\n",
    "import torch\n",
    "import sys\n",
    "import os\n",
    "import json\n",
    "\n",
    "from neurovlm.data import get_data_dir\n",
    "from neurovlm.models import Specter"
   ]
  },
  {
   "cell_type": "markdown",
   "id": "2d0b30c7",
   "metadata": {},
   "source": [
    "## Load data and models"
   ]
  },
  {
   "cell_type": "code",
   "execution_count": 3,
   "id": "15f5edf1",
   "metadata": {},
   "outputs": [
    {
     "name": "stderr",
     "output_type": "stream",
     "text": [
      "There are adapters available but none are activated for the forward pass.\n"
     ]
    }
   ],
   "source": [
    "# Load data and Specter\n",
    "data_dir = get_data_dir()\n",
    "# Try reading with pyarrow engine and fallback to fastparquet if error occurs\n",
    "try:\n",
    "\tdf = pd.read_parquet(data_dir / \"publications.parquet\", engine=\"pyarrow\")\n",
    "except Exception as e:\n",
    "\tprint(f\"pyarrow failed: {e}, trying fastparquet...\")\n",
    "\tdf = pd.read_parquet(data_dir / \"publications.parquet\", engine=\"fastparquet\")\n",
    "specter = Specter()\n",
    "aligner = torch.load(data_dir / \"aligner.pt\", weights_only=False).to(\"cpu\")\n",
    "latent_text = torch.load(data_dir / \"latent_text.pt\", weights_only=True).to(\"cpu\")\n",
    "latent_text = latent_text / latent_text.norm(dim=1, keepdim=True)  # unit norm"
   ]
  },
  {
   "cell_type": "markdown",
   "id": "f2549c56",
   "metadata": {},
   "source": [
    "## Example query\n",
    "\n",
    "The titles and abstract most related to the query will be passed to the LM."
   ]
  },
  {
   "cell_type": "code",
   "execution_count": 4,
   "id": "23c9db3e",
   "metadata": {},
   "outputs": [],
   "source": [
    "# Encode query with specter than rank publications\n",
    "query = \"what is the role of the hippocampus in memory formation\"\n",
    "encoded_text = specter(query)[0].detach()\n",
    "encoded_text_norm = encoded_text / encoded_text.norm()\n",
    "cos_sim = latent_text @ encoded_text_norm\n",
    "inds = torch.argsort(cos_sim, descending=True)\n",
    "\n",
    "# Aggregate publications to pass to LM\n",
    "papers = \"\\n\".join(\n",
    "    [f\"[{ind + 1}] \" + df.iloc[int(i)][\"name\"] + \"\\n\" + re.sub(r'\\s+', ' ', df.iloc[int(i)][\"description\"].replace(\"\\n\", \"\")) + \"\\n\"\n",
    "     for ind, i in enumerate(inds[:5])]\n",
    ")"
   ]
  },
  {
   "cell_type": "code",
   "execution_count": 5,
   "id": "ce622998",
   "metadata": {},
   "outputs": [
    {
     "data": {
      "text/plain": [
       "['Factors affecting the hippocampal BOLD response during spatial memory.',\n",
       " 'Role of hippocampal CA1 atrophy in memory encoding deficits in amnestic Mild Cognitive Impairment.',\n",
       " 'Memory related dysregulation of hippocampal function in major depressive disorder.',\n",
       " 'Hippocampal functional connectivity and episodic memory in early childhood.',\n",
       " 'Hippocampal activation for autobiographical memories over the entire lifetime in  healthy aged subjects: an fMRI study.',\n",
       " 'Long-term retrograde amnesia...the crucial role of the hippocampus.',\n",
       " 'Memory in frontal lobe epilepsy: an fMRI study.',\n",
       " 'The hippocampus remains activated over the long term for the retrieval of truly episodic memories.',\n",
       " 'The stressed hippocampus, synaptic plasticity and lost memories.',\n",
       " 'Probing the relevance of the hippocampus for conflict-induced memory improvement']"
      ]
     },
     "execution_count": 5,
     "metadata": {},
     "output_type": "execute_result"
    }
   ],
   "source": [
    "# Top 10 related publications - these will be passed to LM\n",
    "df.iloc[inds[:10]][\"name\"].values.tolist()"
   ]
  },
  {
   "cell_type": "code",
   "execution_count": 49,
   "id": "22c343ea",
   "metadata": {},
   "outputs": [],
   "source": [
    "system_prompt = \"\"\"\n",
    "You are a helpful neuroscience research assistant.  \n",
    "You will receive a set of publications and a user query. Your task is to summarize key findings and insights from these publications, focusing on how they relate to the query.\n",
    "\n",
    "Your response must:\n",
    "- **Start with a brief overview** (2-4 sentences) summarizing the main themes or takeaways across the publications .  \n",
    "- Be **entirely based on the information in the publications** and how it **directly ties to the user's query**. Do not add outside knowledge or speculation.  \n",
    "- **Identify how each publication relates to the query**. If the publications **directly answer the query**, state the answer clearly. If they **do not answer it fully**, highlight **relevant points, evidence, or gaps** that inform the query.  \n",
    "- **Synthesize across studies**, noting:  \n",
    "  - Key areas of agreement or convergence.  \n",
    "  - Conflicting or divergent findings, with a balanced summary and any contextual factors that may explain differences (e.g., methods, populations, analyses).  \n",
    "- Use **paragraphs or bullet points** depending on the query:  \n",
    "  - Bullet points → lists of findings, comparisons, or key points.  \n",
    "  - Paragraphs → integrative or narrative summaries.  \n",
    "- Maintain an **objective, precise, scholarly tone** suitable for neuroscience research contexts.  \n",
    "\"\"\""
   ]
  },
  {
   "cell_type": "code",
   "execution_count": 50,
   "id": "9ca54452",
   "metadata": {},
   "outputs": [],
   "source": [
    "user_prompt = f\"\"\"\n",
    "Here are some publications related to the query \"{query}\":\n",
    "{papers}\n",
    "\"\"\""
   ]
  },
  {
   "cell_type": "code",
   "execution_count": 51,
   "id": "7e3fdc4e",
   "metadata": {},
   "outputs": [],
   "source": [
    "response = chat(\n",
    "  messages=[\n",
    "      {\n",
    "        'role': 'system',\n",
    "        'content': system_prompt\n",
    "      },\n",
    "      {\n",
    "        'role': 'user',\n",
    "        'content': user_prompt,\n",
    "    }\n",
    "  ],\n",
    "  model='qwen2.5:3b-instruct' #'llama3.2:3b'\n",
    ")"
   ]
  },
  {
   "cell_type": "code",
   "execution_count": 52,
   "id": "428ca55f",
   "metadata": {},
   "outputs": [],
   "source": [
    "output_text = response['message']['content']"
   ]
  },
  {
   "cell_type": "code",
   "execution_count": 53,
   "id": "87757eff",
   "metadata": {},
   "outputs": [
    {
     "name": "stdout",
     "output_type": "stream",
     "text": [
      "### Overview\n",
      "\n",
      "The provided publications cover various aspects of the hippocampal role in memory formation, including its function during spatial memory tasks, its relation to specific brain areas involved in spatial learning and navigation, its potential role in encoding versus retrieval deficits associated with mild cognitive impairment (MCI), its involvement in memory-related dysregulation in depression, its functional connectivity changes across childhood development, and its activation patterns for autobiographical memories over the lifespan. These studies provide a comprehensive view of how different research methodologies illuminate various facets of hippocampal function.\n",
      "\n",
      "### Relation to Query\n",
      "\n",
      "#### What is the Role of the Hippocampus in Memory Formation?\n",
      "\n",
      "- **Spatial Memory:**\n",
      "  - Publication [1] discusses the role of the hippocampus during spatial memory tasks, suggesting that while there are additional areas involved (such as parahippocampal gyrus and precuneus), the hippocampus remains important for navigation based on distal cues.\n",
      "  \n",
      "- **Memory Encoding Deficits in aMCI:**\n",
      "  - Publication [2] suggests that atrophy specifically within the CA1 subfield of the hippocampus may be associated with encoding deficits, while retrieval deficits are linked to white matter loss.\n",
      "\n",
      "- **Hippocampal Dysregulation and Depression:**\n",
      "  - Publication [3] indicates that there is dysregulation in hippocampal function during memory encoding processes in MDD patients. The impairment is specific to the hippocampus.\n",
      "  \n",
      "- **Developmental Changes in Childhood Memory:**\n",
      "  - Publication [4] highlights how functional connectivity between the hippocampus and other regions varies with age, demonstrating a shift from integration within the network for older children to segregation for younger ones.\n",
      "\n",
      "- **Autobiographical Memories Across Lifespan:**\n",
      "  - Publication [5] suggests that the bilateral involvement of the hippocampus is crucial for rich episodic autobiographical memory recall over time. This finding challenges traditional models proposing a permanent role for the hippocampus in memory retrieval, instead favoring a more complex interaction involving other brain regions.\n",
      "\n",
      "### Key Areas of Agreement\n",
      "\n",
      "- All publications agree on the importance of the hippocampus in various forms of memory, particularly spatial and episodic recollection.\n",
      "  \n",
      "- They all highlight that while the hippocampus is crucial, it often works with other parts of the brain to support memory tasks.\n",
      "\n",
      "### Conflicting or Divergent Findings\n",
      "\n",
      "- **Spatial Memory Task:**\n",
      "  - Publication [1] suggests that while non-hippocampal regions are also active in spatial memory, the hippocampus still plays a vital role. This differs from studies like [2], which emphasize atrophy specifically within the CA1 region.\n",
      "\n",
      "- **Memory Deficits in MCI:**\n",
      "  - The findings regarding encoding versus retrieval deficits vary between publications. While [2] supports CA1 subfield involvement for encoding deficits, it does not mention any specific patterns related to retrieval deficits or their location.\n",
      "\n",
      "- **Depression and Hippocampal Function:**\n",
      "  - Publication [3] emphasizes hippocampal dysregulation in depression during encoding processes but does not discuss the spatial memory task results found in [1].\n",
      "\n",
      "### Synthesis\n",
      "\n",
      "- The research across these publications converges on the importance of the hippocampus in maintaining healthy memory functions, with additional support from other brain regions. However, there are distinct differences in which areas contribute most to various types of memory tasks and specific deficits linked to conditions like MCI or depression.\n",
      "\n",
      "- The developmental work suggests a transition from integration within the hippocampal network to specialization as children grow older. \n",
      "\n",
      "- Lastly, studies exploring autobiographical memory over the lifespan indicate that while both spatial and episodic recall rely on the hippocampus, its functional role changes with time, shifting towards increased interaction with other regions like frontal and parietal lobes.\n",
      "\n",
      "In summary, these publications collectively underscore the complex but essential function of the hippocampus in forming and retrieving various types of memories. However, they also highlight differences depending on the type of memory task or condition under investigation.\n"
     ]
    }
   ],
   "source": [
    "print(output_text)"
   ]
  },
  {
   "cell_type": "code",
   "execution_count": null,
   "id": "5b66a8b4",
   "metadata": {},
   "outputs": [],
   "source": [
    "# should i remove talking about Synthesis and Conflicting or Divergent Findings? It might make the LLM respond faster"
   ]
  }
 ],
 "metadata": {
  "kernelspec": {
   "display_name": "Python (neurovlm)",
   "language": "python",
   "name": "neurovlm"
  },
  "language_info": {
   "codemirror_mode": {
    "name": "ipython",
    "version": 3
   },
   "file_extension": ".py",
   "mimetype": "text/x-python",
   "name": "python",
   "nbconvert_exporter": "python",
   "pygments_lexer": "ipython3",
   "version": "3.12.11"
  }
 },
 "nbformat": 4,
 "nbformat_minor": 5
}
