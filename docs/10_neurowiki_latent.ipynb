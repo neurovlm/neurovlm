{
 "cells": [
  {
   "cell_type": "code",
   "execution_count": 1,
   "id": "c48d01d7",
   "metadata": {},
   "outputs": [],
   "source": [
    "import os\n",
    "from tqdm.notebook import tqdm\n",
    "from hashlib import sha256\n",
    "import pandas as pd\n",
    "import torch\n",
    "from neurovlm.data import data_dir\n",
    "from neurovlm.models import Specter"
   ]
  },
  {
   "cell_type": "code",
   "execution_count": 2,
   "id": "f819226b",
   "metadata": {},
   "outputs": [],
   "source": [
    "df = pd.read_parquet(\"/Users/ryanhammonds/Desktop/wiki_and_cogatlas/neurowiki.parquet\")\n",
    "text = list(df[\"title\"] + \" [SEP] \" + df[\"summary\"])\n",
    "hash = [sha256(i.encode(\"utf-8\")).hexdigest()[:8] for i in text]\n",
    "df[\"id\"] = hash"
   ]
  },
  {
   "cell_type": "code",
   "execution_count": 3,
   "id": "11ab69c9",
   "metadata": {},
   "outputs": [
    {
     "name": "stderr",
     "output_type": "stream",
     "text": [
      "There are adapters available but none are activated for the forward pass.\n"
     ]
    },
    {
     "data": {
      "application/vnd.jupyter.widget-view+json": {
       "model_id": "7fc046f9ead8467cb3581eca9fcf6aea",
       "version_major": 2,
       "version_minor": 0
      },
      "text/plain": [
       "  0%|          | 0/9602 [00:00<?, ?it/s]"
      ]
     },
     "metadata": {},
     "output_type": "display_data"
    }
   ],
   "source": [
    "# Encode text in batches\n",
    "os.makedirs(data_dir / \"specter_wiki\", exist_ok=True)\n",
    "\n",
    "specter_adhoc = Specter(\"allenai/specter2_aug2023refresh\", adapter=\"adhoc_query\")\n",
    "\n",
    "batch_size = 4\n",
    "\n",
    "for i in tqdm(range(0, len(text), batch_size), total=len(text)//batch_size):\n",
    "\n",
    "    with torch.no_grad():\n",
    "        latent_specter = specter_adhoc(text[i:i+batch_size])\n",
    "        ids = hash[i:i+batch_size]\n",
    "\n",
    "    torch.save(\n",
    "        {\"embeddings\": latent_specter, \"id\": ids},\n",
    "        data_dir / \"specter_wiki\" / f\"encoded_text_specter2_adhoc_{str(i).zfill(4)}.pt\",\n",
    "        pickle_protocol=5\n",
    "    )"
   ]
  },
  {
   "cell_type": "code",
   "execution_count": null,
   "id": "f9969f0e",
   "metadata": {},
   "outputs": [
    {
     "data": {
      "application/vnd.jupyter.widget-view+json": {
       "model_id": "de869b675f6048c39123253ff1975097",
       "version_major": 2,
       "version_minor": 0
      },
      "text/plain": [
       "  0%|          | 0/9602 [00:00<?, ?it/s]"
      ]
     },
     "metadata": {},
     "output_type": "display_data"
    }
   ],
   "source": [
    "latent_specter = torch.zeros((len(text), 768))\n",
    "ids_specter = []\n",
    "for i in tqdm(range(0, len(text), batch_size), total=len(text)//batch_size):\n",
    "\n",
    "    enc = torch.load(data_dir / \"specter_wiki\" / f\"encoded_text_specter2_adhoc_{str(i).zfill(4)}.pt\", weights_only=False)\n",
    "\n",
    "    with torch.no_grad():\n",
    "        latent_specter[i:i+batch_size] = enc['embeddings']\n",
    "\n",
    "    ids_specter.extend(enc[\"id\"])"
   ]
  },
  {
   "cell_type": "code",
   "execution_count": 15,
   "id": "107d1566",
   "metadata": {},
   "outputs": [],
   "source": [
    "torch.save(\n",
    "    {\"latent\": latent_specter, \"id\": ids_specter},\n",
    "    data_dir / \"latent_specter_wiki.pt\"\n",
    ")"
   ]
  },
  {
   "cell_type": "code",
   "execution_count": 16,
   "id": "91cc27f0",
   "metadata": {},
   "outputs": [],
   "source": [
    "proj_head = torch.load(data_dir / f\"proj_head_mse_sparse.pt\", weights_only=False).to(\"cpu\").eval()"
   ]
  },
  {
   "cell_type": "code",
   "execution_count": null,
   "id": "822f6bdc",
   "metadata": {},
   "outputs": [
    {
     "data": {
      "application/vnd.jupyter.widget-view+json": {
       "model_id": "bfe511cad6114a9d8f6e2c7d7ee416e0",
       "version_major": 2,
       "version_minor": 0
      },
      "text/plain": [
       "  0%|          | 0/9602 [00:00<?, ?it/s]"
      ]
     },
     "metadata": {},
     "output_type": "display_data"
    }
   ],
   "source": [
    "latent_specter_aligned = torch.zeros((len(text), 384))\n",
    "ids_specter = []\n",
    "for i in tqdm(range(0, len(text), batch_size), total=len(text)//batch_size):\n",
    "\n",
    "    enc = torch.load(data_dir / \"specter_wiki\" / f\"encoded_text_specter2_adhoc_{str(i).zfill(4)}.pt\", weights_only=False)\n",
    "\n",
    "    with torch.no_grad():\n",
    "        latent_specter_aligned[i:i+batch_size] = proj_head(enc['embeddings'])\n",
    "        latent_specter_aligned[i:i+batch_size] = latent_specter_aligned[i:i+batch_size] / latent_specter_aligned[i:i+batch_size].norm(dim=1)[:, None]\n",
    "    ids_specter.extend(enc[\"id\"])"
   ]
  },
  {
   "cell_type": "code",
   "execution_count": 29,
   "id": "b62a56ea",
   "metadata": {},
   "outputs": [],
   "source": [
    "torch.save(\n",
    "    {\"latent\": latent_specter_aligned, \"id\": ids_specter},\n",
    "    data_dir / \"latent_specter_wiki_aligned.pt\"\n",
    ")"
   ]
  },
  {
   "cell_type": "code",
   "execution_count": 59,
   "id": "20f8f404",
   "metadata": {},
   "outputs": [],
   "source": [
    "import torch\n",
    "import pandas as pd\n",
    "from neurovlm.data import data_dir\n",
    "df = pd.read_parquet(data_dir / \"neurowiki_with_ids.parquet\")\n",
    "wiki_specter = torch.load(data_dir / \"latent_specter_wiki_aligned.pt\")\n",
    "latent, ids = wiki_specter[\"latent\"], wiki_specter[\"id\"]\n",
    "assert df[\"id\"].isin(ids).all() # ids in df match ids in vectors\n",
    "assert (torch.abs(latent.norm(dim=1) - 1) < 1e-6).all() # some floating point error, row norm should be approx 1"
   ]
  },
  {
   "cell_type": "code",
   "execution_count": 35,
   "id": "c9f1dd4b",
   "metadata": {},
   "outputs": [],
   "source": [
    "df.to_parquet(data_dir / \"neurowiki_with_ids.parquet\")"
   ]
  }
 ],
 "metadata": {
  "kernelspec": {
   "display_name": ".env",
   "language": "python",
   "name": "python3"
  },
  "language_info": {
   "codemirror_mode": {
    "name": "ipython",
    "version": 3
   },
   "file_extension": ".py",
   "mimetype": "text/x-python",
   "name": "python",
   "nbconvert_exporter": "python",
   "pygments_lexer": "ipython3",
   "version": "3.12.11"
  }
 },
 "nbformat": 4,
 "nbformat_minor": 5
}
