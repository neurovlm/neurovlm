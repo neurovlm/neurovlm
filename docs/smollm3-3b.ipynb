{
 "cells": [
  {
   "cell_type": "code",
   "execution_count": null,
   "id": "de56a4d7",
   "metadata": {},
   "outputs": [],
   "source": [
    "import re\n",
    "import pandas as pd\n",
    "import torch\n",
    "from neurovlm.data import get_data_dir\n",
    "from neurovlm.models import Specter"
   ]
  },
  {
   "cell_type": "markdown",
   "id": "99177f1d",
   "metadata": {},
   "source": [
    "# SmolLM3-3b\n",
    "\n",
    "## Load data and models\n",
    "\n",
    "Load quantized version with llama_cpp."
   ]
  },
  {
   "cell_type": "code",
   "execution_count": null,
   "id": "fc328a59",
   "metadata": {},
   "outputs": [
    {
     "name": "stderr",
     "output_type": "stream",
     "text": [
      "llama_context: n_ctx_per_seq (8192) < n_ctx_train (65536) -- the full capacity of the model will not be utilized\n",
      "ggml_metal_init: skipping kernel_get_rows_bf16                     (not supported)\n",
      "ggml_metal_init: skipping kernel_set_rows_bf16                     (not supported)\n",
      "ggml_metal_init: skipping kernel_mul_mv_bf16_f32                   (not supported)\n",
      "ggml_metal_init: skipping kernel_mul_mv_bf16_f32_c4                (not supported)\n",
      "ggml_metal_init: skipping kernel_mul_mv_bf16_f32_1row              (not supported)\n",
      "ggml_metal_init: skipping kernel_mul_mv_bf16_f32_l4                (not supported)\n",
      "ggml_metal_init: skipping kernel_mul_mv_bf16_bf16                  (not supported)\n",
      "ggml_metal_init: skipping kernel_mul_mv_id_bf16_f32                (not supported)\n",
      "ggml_metal_init: skipping kernel_mul_mm_bf16_f32                   (not supported)\n",
      "ggml_metal_init: skipping kernel_mul_mm_id_bf16_f16                (not supported)\n",
      "ggml_metal_init: skipping kernel_flash_attn_ext_bf16_h64           (not supported)\n",
      "ggml_metal_init: skipping kernel_flash_attn_ext_bf16_h80           (not supported)\n",
      "ggml_metal_init: skipping kernel_flash_attn_ext_bf16_h96           (not supported)\n",
      "ggml_metal_init: skipping kernel_flash_attn_ext_bf16_h112          (not supported)\n",
      "ggml_metal_init: skipping kernel_flash_attn_ext_bf16_h128          (not supported)\n",
      "ggml_metal_init: skipping kernel_flash_attn_ext_bf16_h192          (not supported)\n",
      "ggml_metal_init: skipping kernel_flash_attn_ext_bf16_hk192_hv128   (not supported)\n",
      "ggml_metal_init: skipping kernel_flash_attn_ext_bf16_h256          (not supported)\n",
      "ggml_metal_init: skipping kernel_flash_attn_ext_bf16_hk576_hv512   (not supported)\n",
      "ggml_metal_init: skipping kernel_flash_attn_ext_vec_bf16_h64       (not supported)\n",
      "ggml_metal_init: skipping kernel_flash_attn_ext_vec_bf16_h96       (not supported)\n",
      "ggml_metal_init: skipping kernel_flash_attn_ext_vec_bf16_h128      (not supported)\n",
      "ggml_metal_init: skipping kernel_flash_attn_ext_vec_bf16_h192      (not supported)\n",
      "ggml_metal_init: skipping kernel_flash_attn_ext_vec_bf16_hk192_hv128 (not supported)\n",
      "ggml_metal_init: skipping kernel_flash_attn_ext_vec_bf16_h256      (not supported)\n",
      "ggml_metal_init: skipping kernel_flash_attn_ext_vec_bf16_hk576_hv512 (not supported)\n",
      "ggml_metal_init: skipping kernel_cpy_f32_bf16                      (not supported)\n",
      "ggml_metal_init: skipping kernel_cpy_bf16_f32                      (not supported)\n",
      "ggml_metal_init: skipping kernel_cpy_bf16_bf16                     (not supported)\n"
     ]
    }
   ],
   "source": [
    "from llama_cpp import Llama\n",
    "\n",
    "llm = Llama(\n",
    "    model_path=\"/Users/anon/Downloads/SmolLM3-Q4_K_M.gguf\",\n",
    "    n_ctx=8192,\n",
    "    verbose=False\n",
    ")"
   ]
  },
  {
   "cell_type": "code",
   "execution_count": 3,
   "id": "0030c222",
   "metadata": {},
   "outputs": [],
   "source": [
    "# Load data and Specter\n",
    "data_dir = get_data_dir()\n",
    "df = pd.read_parquet(data_dir / \"publications_less.parquet\")\n",
    "specter = Specter()\n",
    "aligner = torch.load(data_dir / \"aligner_specter_adhoc_query.pt\", weights_only=False).to(\"cpu\")\n",
    "latent_text = torch.load(data_dir / \"latent_text_specter2_adhoc_query.pt\", weights_only=True).to(\"cpu\")\n",
    "latent_text /= latent_text.norm(dim=1)[:, None] # unit norm"
   ]
  },
  {
   "cell_type": "markdown",
   "id": "f59cdb46",
   "metadata": {},
   "source": [
    "## Example query\n",
    "\n",
    "The titles and abstract most related to the query will be passed to the LM."
   ]
  },
  {
   "cell_type": "code",
   "execution_count": 4,
   "id": "36310dfb",
   "metadata": {},
   "outputs": [],
   "source": [
    "# Encode query with specter than rank publications\n",
    "query = \"what is the role of the hippocampus in memory formation\"\n",
    "encoded_text = specter(query)[0].detach()\n",
    "encoded_text_norm = encoded_text / encoded_text.norm()\n",
    "cos_sim = latent_text @ encoded_text_norm\n",
    "inds = torch.argsort(cos_sim, descending=True)\n",
    "\n",
    "# Aggregate publications to pass to LM\n",
    "papers = \"\\n\".join(\n",
    "    [f\"[{ind + 1}] \" + df.iloc[int(i)][\"name\"] + \"\\n\" + re.sub(r'\\s+', ' ', df.iloc[int(i)][\"description\"].replace(\"\\n\", \"\")) + \"\\n\"\n",
    "     for ind, i in enumerate(inds[:5])]\n",
    ")"
   ]
  },
  {
   "cell_type": "code",
   "execution_count": 5,
   "id": "69e84aab",
   "metadata": {},
   "outputs": [
    {
     "data": {
      "text/plain": [
       "['Probing the relevance of the hippocampus for conflict-induced memory improvement',\n",
       " 'Specifying the role of the ventromedial prefrontal cortex in memory formation.',\n",
       " 'Does the hippocampus mediate objective binding or subjective remembering?',\n",
       " 'Role of hippocampal CA1 atrophy in memory encoding deficits in amnestic Mild Cognitive Impairment.',\n",
       " 'Dose-dependent effect of the Val66Met polymorphism of the brain-derived neurotrophic factor gene on memory-related hippocampal activity.',\n",
       " 'The role of hippocampus dysfunction in deficient memory encoding and positive symptoms in schizophrenia.',\n",
       " 'Investigating the effect of hippocampal sclerosis on parietal memory network',\n",
       " 'Differences between memory\\xa0encoding and retrieval failure in mild cognitive impairment: results from quantitative electroencephalography and magnetic resonance volumetry',\n",
       " 'Long-term retrograde amnesia...the crucial role of the hippocampus.',\n",
       " 'Additive genetic effect of APOE and BDNF on hippocampus activity.']"
      ]
     },
     "execution_count": 5,
     "metadata": {},
     "output_type": "execute_result"
    }
   ],
   "source": [
    "# Top 10 related publications - these will be passed to LM\n",
    "df.iloc[inds[:10]][\"name\"].values.tolist()"
   ]
  },
  {
   "cell_type": "markdown",
   "id": "4f8456d0",
   "metadata": {},
   "source": [
    "## SmolLM3B + Reasoning\n",
    "\n",
    "The LM is passed two things and asked to reason:\n",
    "\n",
    "1. The user query\n",
    "2. Publications related to user query\n",
    "\n",
    "\n",
    "Note:\n",
    "\n",
    "The \\<think\\> tags in the first half of output is where the LM is reasoning."
   ]
  },
  {
   "cell_type": "code",
   "execution_count": 6,
   "id": "72d4e9a5",
   "metadata": {},
   "outputs": [
    {
     "name": "stdout",
     "output_type": "stream",
     "text": [
      "\n",
      "The role of the hippocampus in memory formation is multifaceted and involves both encoding and retrieval processes. Research indicates that the hippocampus plays a critical role in episodic memory, particularly in the encoding phase, where it supports the integration of new information into existing memory structures. Studies have shown that the hippocampus is involved in conflict-induced memory improvement, enhancing the retention of conflict stimuli. However, the relationship between the hippocampus and conflict processing remains less understood, especially in patients with hippocampal lesions.\n",
      "\n",
      "The hippocampus seems to facilitate the interaction between conflict processing and memory formation, enabling better memory retention for conflict stimuli. This function is likely disrupted in individuals with hippocampal damage, as evidenced by impaired conflict-induced memory improvement in patients with mesial temporal lobe epilepsy (MTLE).\n",
      "\n",
      "Other studies suggest that the ventromedial prefrontal cortex (vmPFC) contributes to memory formation when new information is linked to existing knowledge structures, a process dependent on knowledge-congruency rather than knowledge-relevance. The hippocampus, on the other hand, mediates the binding of new information into existing knowledge structures, particularly when there is a high degree of knowledge-congruency.\n",
      "\n",
      "Functional magnetic resonance imaging (fMRI) studies have examined the role of the hippocampus in binding and remembering, indicating that the hippocampus is associated with context memory to a greater degree than item memory and that it supports the subjective experience of specific detail through remembering rather than knowing.\n",
      "\n",
      "In patients with amnestic Mild Cognitive Impairment (aMCI), memory encoding deficits specifically correlate with atrophy of the CA1 hippocampal subfield, while retrieval deficits are associated with white matter loss in medial parietal and frontal areas. This suggests that encoding impairments in aMCI patients are closely tied to hippocampal atrophy, specifically in the CA1 region.\n",
      "\n",
      "The Val66Met polymorphism of the BDNF gene, which influences memory-related hippocampal activity, has been found to have a dose-dependent effect on encoding-related brain activity in healthy Japanese individuals. This suggests that genetic mechanisms may underlie normal variation in human memory and hippocampal function.\n",
      "\n",
      "Overall, the hippocampus plays a central role in memory formation, particularly in the encoding phase, by facilitating the integration of new information into existing memory structures, supporting conflict-induced memory improvement, and mediating binding and remembering processes. Understanding the specific roles of different hippocampal subfields and their interactions with other brain regions is crucial for developing effective therapies for memory-related disorders."
     ]
    }
   ],
   "source": [
    "# Context to give the LM\n",
    "context  = \"Summarize the high level ideas of the topic in.\"\n",
    "# context += \"2. Select a subset of related publications. \"\n",
    "# context += \"3. Use in text citations, [1], [2], etc, at the end of related statments. \"\n",
    "\n",
    "messages = [\n",
    "    {\"role\": \"system\", \"content\": context},\n",
    "    {\"role\": \"user\", \"content\": f\"Topic: {query}.\\n\\nSupplemental publications: \" + \"\\n\" + papers}\n",
    "]\n",
    "\n",
    "stream = llm.create_chat_completion(messages=messages, stream=True, temperature=0.6)\n",
    "start_stream = False # start stream after thinking\n",
    "for chunk in stream:\n",
    "    delta = chunk['choices'][0]['delta']\n",
    "    if 'content' in delta and start_stream:\n",
    "        print(delta['content'], end=\"\", flush=True)\n",
    "    elif 'content' in delta:\n",
    "        if delta['content'] == \"</think>\":\n",
    "            start_stream = True"
   ]
  },
  {
   "cell_type": "markdown",
   "id": "ac830e9b",
   "metadata": {},
   "source": [
    "## Thinking\n",
    "\n",
    "The model can \"think\" to improve reasoning, but is slower."
   ]
  },
  {
   "cell_type": "code",
   "execution_count": 7,
   "id": "230ade21",
   "metadata": {},
   "outputs": [
    {
     "name": "stdout",
     "output_type": "stream",
     "text": [
      "<think>\n",
      "Okay, let's tackle this query. The user is asking about the role of the hippocampus in memory formation, with a focus on the provided supplementary publications. They want a concise summary of the key ideas from each study, highlighting the different aspects of hippocampal function related to memory.\n",
      "\n",
      "First, I need to go through each of the five studies one by one. Let me start with the first one. Study [1] talks about the hippocampus in conflict resolution and memory formation in epilepsy patients. The main points here are that the hippocampus contributes to resolving conflicts during memory encoding, but in patients with hippocampal sclerosis, there's no memory improvement. They found that in controls, the hippocampus is involved in both conflict and memory, but in patients, it's more about conflict resolution affecting retrieval rather than memory. The conclusion is that the hippocampus might reorganize its role when damaged, but more research is needed.\n",
      "\n",
      "Next, study [2] focuses on the ventromedial prefrontal cortex (vmPFC) and how it contributes to memory formation based on knowledge congruency. The key here is that the vmPFC's role depends on whether the new information matches existing knowledge (knowledge congruency). If the information is unrelated (low congruency), the vmPFC isn't as involved. This study clarifies that the vmPFC's involvement in memory isn't just about general memory formation but specifically when there's a match between new and existing knowledge.\n",
      "\n",
      "Study [3] examines whether the hippocampus mediates objective binding (context memory) or subjective remembering (detailed recall). The findings show that the hippocampus is more associated with context memory (binding) rather than subjective remembering. The parietal cortex, particularly the left inferior parietal cortex, is linked to subjective remembering. This suggests a distinction in the hippocampus's role versus other brain areas involved in personal experience.\n",
      "\n",
      "Study [4] looks at the role of CA1 atrophy in aMCI patients. The data indicate that encoding deficits are more closely tied to CA1 atrophy, while retrieval deficits are related to white matter loss in parietal and frontal areas. This suggests that the hippocampus is crucial for encoding but the network for retrieval includes other regions.\n",
      "\n",
      "Study [5] discusses the Val66Met polymorphism in BDNF and its effect on hippocampal activity. The study finds that the Met-BDNF allele is associated with reduced activity in the hippocampus during encoding. The effect is dose-dependent, meaning the more Met alleles present, the lower the activity. This implies that BDNF signaling in the hippocampus is important for memory encoding, and the polymorphism might affect this.\n",
      "\n",
      "Now, I need to summarize these points into a coherent answer. The main ideas are:\n",
      "\n",
      "1. The hippocampus is involved in both conflict resolution and memory formation, but in patients with hippocampal damage, there's no memory benefit, suggesting a possible reorganization of its role.\n",
      "2. The vmPFC contributes to memory formation when there's knowledge congruency, not just general memory.\n",
      "3. The hippocampus mediates context binding (objective memory) rather than subjective remembering (detailed recall), with the parietal cortex handling the latter.\n",
      "4. In aMCI, CA1 atrophy affects encoding more than retrieval, indicating a specialized role for the hippocampus in encoding.\n",
      "5. The BDNF Val66Met polymorphism affects hippocampal activity during encoding, with more Met alleles linked to reduced activity, suggesting a genetic component in memory encoding.\n",
      "\n",
      "I should structure the answer to first introduce the hippocampus's general role in memory, then go through each study's contribution, highlighting the key findings and their implications. Make sure to mention the differences between studies and how they complement each other, such as the distinction between hippocampus and parietal cortex functions, the role of BDNF, and the impact of atrophy on different aspects of memory. Also, note the significance of each finding in understanding the hippocampus's multifaceted role in memory.\n",
      "</think>\n",
      "\n",
      "**Role of the Hippocampus in Memory Formation: A Summary of Key Findings**\n",
      "\n",
      "The hippocampus plays a central role in memory formation, influencing both episodic memory and conflict resolution. Here’s a concise summary of key insights from the provided studies:\n",
      "\n",
      "1. **Conflict Resolution and Memory in Epilepsy**:  \n",
      "   - The hippocampus contributes to resolving conflict during memory encoding, enhancing memory for conflicting stimuli in healthy controls.  \n",
      "   - In patients with hippocampal sclerosis (e.g., MTLE), there is no memory benefit; instead, conflict resolution affects retrieval, suggesting a reorganization of hippocampal function.  \n",
      "   - This highlights the hippocampus’s dual role in conflict processing and memory formation, with potential reorganization in damaged states.\n",
      "\n",
      "2. **Ventromedial Prefrontal Cortex (vmPFC) in Memory Formation**:  \n",
      "   - The vmPFC is critical for memory formation when new information aligns with existing knowledge (knowledge congruency).  \n",
      "   - In studies where information is unrelated to prior knowledge (low congruency), vmPFC involvement in memory formation is diminished, clarifying its specialized role in context-specific memory integration.\n",
      "\n",
      "3. **Binding vs. Remembering in the Hippocampus**:  \n",
      "   - The hippocampus primarily mediates **context binding** (objective memory of contextual details) rather than **subjective remembering** (detailed recall).  \n",
      "   - The parietal cortex, particularly the left inferior parietal cortex, is linked to subjective remembering, suggesting a functional distinction between the hippocampus and parietal regions in memory processing.\n",
      "\n",
      "4. **Hippocampal Atrophy and Memory Deficits in aMCI**:  \n",
      "   - **Encoding** deficits are strongly associated with **CA1** hippocampal atrophy, indicating a specialized role for the CA1 subfield in memory encoding.  \n",
      "   - **Retrieval** deficits are linked to **white matter** loss in parietal and frontal areas, suggesting a broader network disruption in retrieval.\n",
      "\n",
      "5. **BDNF Val66Met Polymorphism and Hippocampal Activity**:  \n",
      "   - The Met-BDNF allele is associated with reduced hippocampal activity during encoding, with effects dependent on the number of Met alleles (dose-dependent).  \n",
      "   - This suggests that BDNF signaling in the hippocampus is crucial for memory encoding, and the polymorphism may influence neuroplasticity and memory formation.\n",
      "\n",
      "**Implications**:  \n",
      "- The hippocampus’s role in memory is multifaceted, involving conflict resolution, context binding, and BDNF-dependent encoding.  \n",
      "- Distinct brain regions (e.g., parietal cortex) contribute to subjective memory, while the hippocampus focuses on objective memory structures.  \n",
      "- Understanding these interactions can inform therapeutic strategies for memory impairments, particularly in conditions like aMCI and epilepsy.  \n",
      "- Genetic factors, such as the Val66Met polymorphism, further highlight variability in hippocampal function, emphasizing the importance of personalized approaches in neuroimaging and treatment."
     ]
    }
   ],
   "source": [
    "# Context to give the LM\n",
    "context  = \"Summarize the high level ideas of the topic in. \"\n",
    "# context += \"2. Select a subset of related publications. \"\n",
    "# context += \"3. Use in text citations, [1], [2], etc, at the end of related statments. \"\n",
    "context += \"<think></think>\"\n",
    "\n",
    "messages = [\n",
    "    {\"role\": \"system\", \"content\": context},\n",
    "    {\"role\": \"user\", \"content\": f\"Topic: {query}.\\n\\nSupplemental publications: \" + \"\\n\" + papers}\n",
    "]\n",
    "\n",
    "stream = llm.create_chat_completion(messages=messages, stream=True, temperature=0.6)\n",
    "start_stream = False # start stream after thinking\n",
    "for chunk in stream:\n",
    "    delta = chunk['choices'][0]['delta']\n",
    "    if 'content' in delta:\n",
    "        print(delta['content'], end=\"\", flush=True)"
   ]
  },
  {
   "cell_type": "markdown",
   "id": "8afbaafe",
   "metadata": {},
   "source": [
    "**Role of the Hippocampus in Memory Formation: A Summary of Key Findings**\n",
    "\n",
    "The hippocampus plays a central role in memory formation, influencing both episodic memory and conflict resolution. Here’s a concise summary of key insights from the provided studies:\n",
    "\n",
    "1. **Conflict Resolution and Memory in Epilepsy**:  \n",
    "   - The hippocampus contributes to resolving conflict during memory encoding, enhancing memory for conflicting stimuli in healthy controls.  \n",
    "   - In patients with hippocampal sclerosis (e.g., MTLE), there is no memory benefit; instead, conflict resolution affects retrieval, suggesting a reorganization of hippocampal function.  \n",
    "   - This highlights the hippocampus’s dual role in conflict processing and memory formation, with potential reorganization in damaged states.\n",
    "\n",
    "2. **Ventromedial Prefrontal Cortex (vmPFC) in Memory Formation**:  \n",
    "   - The vmPFC is critical for memory formation when new information aligns with existing knowledge (knowledge congruency).  \n",
    "   - In studies where information is unrelated to prior knowledge (low congruency), vmPFC involvement in memory formation is diminished, clarifying its specialized role in context-specific memory integration.\n",
    "\n",
    "3. **Binding vs. Remembering in the Hippocampus**:  \n",
    "   - The hippocampus primarily mediates **context binding** (objective memory of contextual details) rather than **subjective remembering** (detailed recall).  \n",
    "   - The parietal cortex, particularly the left inferior parietal cortex, is linked to subjective remembering, suggesting a functional distinction between the hippocampus and parietal regions in memory processing.\n",
    "\n",
    "4. **Hippocampal Atrophy and Memory Deficits in aMCI**:  \n",
    "   - **Encoding** deficits are strongly associated with **CA1** hippocampal atrophy, indicating a specialized role for the CA1 subfield in memory encoding.  \n",
    "   - **Retrieval** deficits are linked to **white matter** loss in parietal and frontal areas, suggesting a broader network disruption in retrieval.\n",
    "\n",
    "5. **BDNF Val66Met Polymorphism and Hippocampal Activity**:  \n",
    "   - The Met-BDNF allele is associated with reduced hippocampal activity during encoding, with effects dependent on the number of Met alleles (dose-dependent).  \n",
    "   - This suggests that BDNF signaling in the hippocampus is crucial for memory encoding, and the polymorphism may influence neuroplasticity and memory formation.\n",
    "\n",
    "**Implications**:  \n",
    "- The hippocampus’s role in memory is multifaceted, involving conflict resolution, context binding, and BDNF-dependent encoding.  \n",
    "- Distinct brain regions (e.g., parietal cortex) contribute to subjective memory, while the hippocampus focuses on objective memory structures.  \n",
    "- Understanding these interactions can inform therapeutic strategies for memory impairments, particularly in conditions like aMCI and epilepsy.  \n",
    "- Genetic factors, such as the Val66Met polymorphism, further highlight variability in hippocampal function, emphasizing the importance of personalized approaches in neuroimaging and treatment."
   ]
  }
 ],
 "metadata": {
  "kernelspec": {
   "display_name": ".env",
   "language": "python",
   "name": "python3"
  },
  "language_info": {
   "codemirror_mode": {
    "name": "ipython",
    "version": 3
   },
   "file_extension": ".py",
   "mimetype": "text/x-python",
   "name": "python",
   "nbconvert_exporter": "python",
   "pygments_lexer": "ipython3",
   "version": "3.12.11"
  }
 },
 "nbformat": 4,
 "nbformat_minor": 5
}
