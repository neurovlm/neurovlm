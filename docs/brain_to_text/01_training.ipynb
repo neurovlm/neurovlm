{
 "cells": [
  {
   "cell_type": "code",
   "execution_count": 1,
   "id": "9464703a-db53-4f6b-bbef-5c3b41b5ebf7",
   "metadata": {},
   "outputs": [
    {
     "name": "stderr",
     "output_type": "stream",
     "text": [
      "/Users/borng/code/lab_work/neurovlm/.conda/lib/python3.12/site-packages/tqdm/auto.py:21: TqdmWarning: IProgress not found. Please update jupyter and ipywidgets. See https://ipywidgets.readthedocs.io/en/stable/user_install.html\n",
      "  from .autonotebook import tqdm as notebook_tqdm\n"
     ]
    }
   ],
   "source": [
    "import matplotlib.pyplot as plt\n",
    "\n",
    "import numpy as np\n",
    "import pandas as pd\n",
    "import os\n",
    "import tqdm\n",
    "from tqdm.notebook import tqdm\n",
    "import time\n",
    "from sklearn.model_selection import train_test_split\n",
    "from sklearn.metrics.pairwise import euclidean_distances\n",
    "\n",
    "import torch\n",
    "from torch import nn\n",
    "\n",
    "from nilearn.plotting import plot_glass_brain\n",
    "import nibabel as nib\n",
    "\n",
    "from sentence_transformers import SentenceTransformer\n",
    "from transformers import AutoTokenizer\n",
    "from adapters import AutoAdapterModel\n",
    "\n",
    "from neurovlm.data import fetch_data\n",
    "from neurovlm.coords import coords_to_vectors\n",
    "from neurovlm.models import NeuroAutoEncoder, TextAligner\n",
    "from neurovlm.train import Trainer, which_device\n",
    "device = which_device()"
   ]
  },
  {
   "cell_type": "markdown",
   "id": "3caab606-6a69-4e53-be20-0db092d1a989",
   "metadata": {},
   "source": [
    "# Training\n",
    "\n",
    "This notebook trains the `neurovlm` model. Sections include:\n",
    "\n",
    "1. Load coordinates\n",
    "2. Extract neuro-vectors\n",
    "3. Train autoencoder\n",
    "4. Train text aligner\n",
    "5. Results"
   ]
  },
  {
   "cell_type": "markdown",
   "id": "41b44e06-0d18-4385-803d-07a7e5b4e01a",
   "metadata": {},
   "source": [
    "## 1. Load Coordinates\n",
    "\n",
    "Data from 25k articles, fetched and processed with `pubget`.\n",
    "\n",
    "- article id\n",
    "- titles\n",
    "- dois\n",
    "- MNI coordinates"
   ]
  },
  {
   "cell_type": "code",
   "execution_count": 2,
   "id": "54ada41e-7ab2-40ec-93d5-0cf60c05cd89",
   "metadata": {
    "scrolled": true
   },
   "outputs": [],
   "source": [
    "data_dir = fetch_data()\n",
    "df_pubs = pd.read_parquet(f\"{data_dir}/publications.parquet\")\n",
    "df_coords = pd.read_parquet(f\"{data_dir}/coordinates.parquet\")"
   ]
  },
  {
   "cell_type": "code",
   "execution_count": 3,
   "id": "f7aefa5b",
   "metadata": {},
   "outputs": [
    {
     "data": {
      "text/html": [
       "<div>\n",
       "<style scoped>\n",
       "    .dataframe tbody tr th:only-of-type {\n",
       "        vertical-align: middle;\n",
       "    }\n",
       "\n",
       "    .dataframe tbody tr th {\n",
       "        vertical-align: top;\n",
       "    }\n",
       "\n",
       "    .dataframe thead th {\n",
       "        text-align: right;\n",
       "    }\n",
       "</style>\n",
       "<table border=\"1\" class=\"dataframe\">\n",
       "  <thead>\n",
       "    <tr style=\"text-align: right;\">\n",
       "      <th></th>\n",
       "      <th>pmid</th>\n",
       "      <th>pmcid</th>\n",
       "      <th>doi</th>\n",
       "      <th>x</th>\n",
       "      <th>y</th>\n",
       "      <th>z</th>\n",
       "    </tr>\n",
       "  </thead>\n",
       "  <tbody>\n",
       "    <tr>\n",
       "      <th>0</th>\n",
       "      <td>22884992</td>\n",
       "      <td>NaN</td>\n",
       "      <td>10.1016/j.dcn.2012.07.001</td>\n",
       "      <td>-57</td>\n",
       "      <td>-22</td>\n",
       "      <td>34</td>\n",
       "    </tr>\n",
       "    <tr>\n",
       "      <th>1</th>\n",
       "      <td>22884992</td>\n",
       "      <td>NaN</td>\n",
       "      <td>10.1016/j.dcn.2012.07.001</td>\n",
       "      <td>-54</td>\n",
       "      <td>11</td>\n",
       "      <td>13</td>\n",
       "    </tr>\n",
       "    <tr>\n",
       "      <th>2</th>\n",
       "      <td>22884992</td>\n",
       "      <td>NaN</td>\n",
       "      <td>10.1016/j.dcn.2012.07.001</td>\n",
       "      <td>-51</td>\n",
       "      <td>-49</td>\n",
       "      <td>-2</td>\n",
       "    </tr>\n",
       "    <tr>\n",
       "      <th>3</th>\n",
       "      <td>22884992</td>\n",
       "      <td>NaN</td>\n",
       "      <td>10.1016/j.dcn.2012.07.001</td>\n",
       "      <td>-48</td>\n",
       "      <td>-1</td>\n",
       "      <td>37</td>\n",
       "    </tr>\n",
       "    <tr>\n",
       "      <th>4</th>\n",
       "      <td>22884992</td>\n",
       "      <td>NaN</td>\n",
       "      <td>10.1016/j.dcn.2012.07.001</td>\n",
       "      <td>-46</td>\n",
       "      <td>37</td>\n",
       "      <td>-6</td>\n",
       "    </tr>\n",
       "    <tr>\n",
       "      <th>...</th>\n",
       "      <td>...</td>\n",
       "      <td>...</td>\n",
       "      <td>...</td>\n",
       "      <td>...</td>\n",
       "      <td>...</td>\n",
       "      <td>...</td>\n",
       "    </tr>\n",
       "    <tr>\n",
       "      <th>766236</th>\n",
       "      <td>35710930</td>\n",
       "      <td>9203582.0</td>\n",
       "      <td>10.1038/s41598-022-14221-x</td>\n",
       "      <td>42</td>\n",
       "      <td>34</td>\n",
       "      <td>32</td>\n",
       "    </tr>\n",
       "    <tr>\n",
       "      <th>766237</th>\n",
       "      <td>35710930</td>\n",
       "      <td>9203582.0</td>\n",
       "      <td>10.1038/s41598-022-14221-x</td>\n",
       "      <td>45</td>\n",
       "      <td>33</td>\n",
       "      <td>28</td>\n",
       "    </tr>\n",
       "    <tr>\n",
       "      <th>766238</th>\n",
       "      <td>35710930</td>\n",
       "      <td>9203582.0</td>\n",
       "      <td>10.1038/s41598-022-14221-x</td>\n",
       "      <td>46</td>\n",
       "      <td>18</td>\n",
       "      <td>-10</td>\n",
       "    </tr>\n",
       "    <tr>\n",
       "      <th>766239</th>\n",
       "      <td>35710930</td>\n",
       "      <td>9203582.0</td>\n",
       "      <td>10.1038/s41598-022-14221-x</td>\n",
       "      <td>51</td>\n",
       "      <td>-42</td>\n",
       "      <td>18</td>\n",
       "    </tr>\n",
       "    <tr>\n",
       "      <th>766240</th>\n",
       "      <td>35710930</td>\n",
       "      <td>9203582.0</td>\n",
       "      <td>10.1038/s41598-022-14221-x</td>\n",
       "      <td>60</td>\n",
       "      <td>-44</td>\n",
       "      <td>26</td>\n",
       "    </tr>\n",
       "  </tbody>\n",
       "</table>\n",
       "<p>663541 rows × 6 columns</p>\n",
       "</div>"
      ],
      "text/plain": [
       "            pmid      pmcid                         doi   x   y   z\n",
       "0       22884992        NaN   10.1016/j.dcn.2012.07.001 -57 -22  34\n",
       "1       22884992        NaN   10.1016/j.dcn.2012.07.001 -54  11  13\n",
       "2       22884992        NaN   10.1016/j.dcn.2012.07.001 -51 -49  -2\n",
       "3       22884992        NaN   10.1016/j.dcn.2012.07.001 -48  -1  37\n",
       "4       22884992        NaN   10.1016/j.dcn.2012.07.001 -46  37  -6\n",
       "...          ...        ...                         ...  ..  ..  ..\n",
       "766236  35710930  9203582.0  10.1038/s41598-022-14221-x  42  34  32\n",
       "766237  35710930  9203582.0  10.1038/s41598-022-14221-x  45  33  28\n",
       "766238  35710930  9203582.0  10.1038/s41598-022-14221-x  46  18 -10\n",
       "766239  35710930  9203582.0  10.1038/s41598-022-14221-x  51 -42  18\n",
       "766240  35710930  9203582.0  10.1038/s41598-022-14221-x  60 -44  26\n",
       "\n",
       "[663541 rows x 6 columns]"
      ]
     },
     "execution_count": 3,
     "metadata": {},
     "output_type": "execute_result"
    }
   ],
   "source": [
    "df_coords"
   ]
  },
  {
   "cell_type": "markdown",
   "id": "1498bc0c-61ed-41ca-ac4a-ddb8278957b5",
   "metadata": {},
   "source": [
    "## 2. Extract Neuro-vectors\n",
    "\n",
    "Smooth coordinates with 9mm Gaussian kernel and extract a 28542 dimensional vector. The vector is binarized and the autoencoder will minimize binary cross entropy."
   ]
  },
  {
   "cell_type": "code",
   "execution_count": 4,
   "id": "6895cc36-a877-43f3-b021-17ca4ce2bf8d",
   "metadata": {
    "scrolled": true
   },
   "outputs": [
    {
     "data": {
      "application/vnd.jupyter.widget-view+json": {
       "model_id": "c538c563674e4d059129235e610d2bc5",
       "version_major": 2,
       "version_minor": 0
      },
      "text/plain": [
       "  0%|          | 0/28393 [00:00<?, ?it/s]"
      ]
     },
     "metadata": {},
     "output_type": "display_data"
    }
   ],
   "source": [
    "# Convert coordinates to MNI space vectors\n",
    "neuro_vectors, df_pubs = coords_to_vectors(df_coords, df_pubs)\n",
    "\n",
    "# Binarize for classification\n",
    "neuro_vectors[neuro_vectors > 0.0] = 1.0\n",
    "neuro_vectors = neuro_vectors.to(\"cpu\")\n",
    "\n",
    "# Save\n",
    "torch.save(neuro_vectors, \"neuro_vectors.pt\")\n",
    "df_pubs.to_csv(\"publications.csv\")"
   ]
  },
  {
   "cell_type": "code",
   "execution_count": 31,
   "id": "fda8a14d-59b8-489c-8eb4-f37cbd595101",
   "metadata": {},
   "outputs": [],
   "source": [
    "# Skip above if previously trained\n",
    "neuro_vectors = torch.load(\n",
    "    \"specter/neuro_vectors.pt\", weights_only=True\n",
    ").to(\"cpu\")\n",
    "\n"
   ]
  },
  {
   "cell_type": "markdown",
   "id": "5de9ee5e",
   "metadata": {},
   "source": [
    "## 3. Train Autoencoder\n",
    "\n",
    "Train an autoencoder on the neuro-vectors.\n",
    "\n",
    "1. Encoder: Neuro-vector to low-dimensional (384) latent vector / embedding space\n",
    "\n",
    "2. Decoder: Latent vector to produces MNI space predictions.\n",
    "\n",
    "The 384 latent dimension was chosen to match the latent dimension of the chosen text encoder."
   ]
  },
  {
   "cell_type": "code",
   "execution_count": 32,
   "id": "5dbc5e39",
   "metadata": {},
   "outputs": [],
   "source": [
    "# Train/test/validation split\n",
    "inds = torch.arange(len(neuro_vectors))\n",
    "train_inds, test_inds = train_test_split(\n",
    "    inds, train_size=0.8, random_state=0\n",
    ")\n",
    "test_inds, val_inds = train_test_split(\n",
    "    test_inds, train_size=0.5, random_state=1\n",
    ")"
   ]
  },
  {
   "cell_type": "code",
   "execution_count": null,
   "id": "cb7a37b0",
   "metadata": {},
   "outputs": [
    {
     "name": "stdout",
     "output_type": "stream",
     "text": [
      "Epoch: 99,  val loss:  0.69321 (initial) -> 0.15089 (current)"
     ]
    }
   ],
   "source": [
    "# Train\n",
    "trainer = Trainer(\n",
    "    NeuroAutoEncoder(seed=0),\n",
    "    n_epochs=100,\n",
    "    batch_size=256,\n",
    "    lr=1e-4,\n",
    "    loss_fn=nn.BCELoss(),\n",
    "    optimizer=torch.optim.AdamW,\n",
    "    X_val=neuro_vectors[val_inds],\n",
    "    device=\"auto\"\n",
    ")\n",
    "\n",
    "# Fit\n",
    "trainer.fit(neuro_vectors[train_inds])\n",
    "\n",
    "# Save\n",
    "trainer.save(\"autoencoder.pt\")\n",
    "\n",
    "# Unpack\n",
    "autoencoder = trainer.model"
   ]
  },
  {
   "cell_type": "code",
   "execution_count": 15,
   "id": "6202f8c0",
   "metadata": {},
   "outputs": [],
   "source": [
    "# Skip above if previously trained\n",
    "autoencoder = torch.load(\n",
    "    \"specter/autoencoder.pt\", weights_only=False\n",
    ").to(\"cpu\")"
   ]
  },
  {
   "cell_type": "markdown",
   "id": "23e08d19-1b42-48d2-ab6d-8ac17b737e83",
   "metadata": {},
   "source": [
    "## 4. Train Text Encoder\n",
    "\n",
    "Use SPECTER pre-trained language model to compute latent text vectors for each publication's title and it's corresponding abstract. For other transformers, see the `sentence-transformers` package. The `TextAligner` model transforms latext text to latent MNI space and dimension. Then the neuro-decoder can transform the aligned latent text, to MNI space, resulting in a generative model.\n"
   ]
  },
  {
   "cell_type": "markdown",
   "id": "a8a159e1",
   "metadata": {},
   "source": [
    "### Encoding the titles and abstract"
   ]
  },
  {
   "cell_type": "code",
   "execution_count": 11,
   "id": "da58a51b",
   "metadata": {},
   "outputs": [
    {
     "data": {
      "application/vnd.jupyter.widget-view+json": {
       "model_id": "b3f663af86534a5fbd11648896700764",
       "version_major": 2,
       "version_minor": 0
      },
      "text/plain": [
       "Fetching 4 files:   0%|          | 0/4 [00:00<?, ?it/s]"
      ]
     },
     "metadata": {},
     "output_type": "display_data"
    },
    {
     "data": {
      "text/plain": [
       "'specter2_proximity'"
      ]
     },
     "execution_count": 11,
     "metadata": {},
     "output_type": "execute_result"
    }
   ],
   "source": [
    "# load model and tokenizer\n",
    "tokenizer = AutoTokenizer.from_pretrained('allenai/specter2_aug2023refresh_base')\n",
    "\n",
    "#load base model\n",
    "model = AutoAdapterModel.from_pretrained(\"allenai/specter2_aug2023refresh_base\")\n",
    "\n",
    "#load the proximity adapter, provide an identifier for the adapter in load_as argument and activate it\n",
    "model.load_adapter(\"allenai/specter2\", source=\"hf\", load_as=\"specter2_proximity\", set_active=True)\n",
    "\n",
    "\n",
    "\n"
   ]
  },
  {
   "cell_type": "code",
   "execution_count": 26,
   "id": "3f6e203a",
   "metadata": {},
   "outputs": [],
   "source": [
    "def embed_input(text_batch: list[str]):\n",
    "  # preprocess the input\n",
    "  inputs = tokenizer(text_batch, padding=True, truncation=True,\n",
    "                                   return_tensors=\"pt\", return_token_type_ids=False, max_length=512)\n",
    "  output = model(**inputs)\n",
    "  # take the first token in the batch as the embedding\n",
    "  embeddings = output.last_hidden_state[:, 0, :]\n",
    "  return embeddings\n",
    "\n",
    "\n"
   ]
  },
  {
   "cell_type": "code",
   "execution_count": 13,
   "id": "b384a337",
   "metadata": {},
   "outputs": [],
   "source": [
    "# Extract title and abstract from dataFrame in the format appropriate for specter.\n",
    "papers = [{'title': title, 'abstract': abstract} for title, abstract in zip(df_pubs['name'], df_pubs['description'])]\n",
    "\n",
    "# concatenate title and abstract\n",
    "text_batch = [d['title'] + tokenizer.sep_token + (d.get('abstract') or '') for d in papers]\n",
    "\n",
    "\n"
   ]
  },
  {
   "cell_type": "code",
   "execution_count": 14,
   "id": "380ede3d",
   "metadata": {},
   "outputs": [
    {
     "data": {
      "application/vnd.jupyter.widget-view+json": {
       "model_id": "de29494fc47a48918bfb962c2d188002",
       "version_major": 2,
       "version_minor": 0
      },
      "text/plain": [
       "  0%|          | 0/456 [00:00<?, ?it/s]"
      ]
     },
     "metadata": {},
     "output_type": "display_data"
    },
    {
     "name": "stdout",
     "output_type": "stream",
     "text": [
      "Processed batch 3550 (28393-28393 of 28393 samples)"
     ]
    },
    {
     "data": {
      "text/plain": [
       "'\\n# Combine all batch files\\nlatent_text_batches = []\\nfor i in range(1, total_batches + 1):\\n    batch_tensor = torch.load(f\"batches/latent_text_batch_{i}.pt\")\\n    latent_text_batches.append(batch_tensor)\\n\\nlatent_text = torch.cat(latent_text_batches, dim=0)\\ntorch.save(latent_text, \"latent_text.pt\")\\n'"
      ]
     },
     "execution_count": 14,
     "metadata": {},
     "output_type": "execute_result"
    }
   ],
   "source": [
    "# Calculate total number of batches needed\n",
    "total_samples = 28393\n",
    "batch_size = 8\n",
    "total_batches = (total_samples + batch_size - 1) // batch_size\n",
    "\n",
    "# Create batches directory if it doesn't exist\n",
    "os.makedirs('batches', exist_ok=True)\n",
    "\n",
    "# Start from batch 3025 since 3024 was the last completed batch\n",
    "current_batch = 3095\n",
    "\n",
    "for i in tqdm(range(current_batch - 1, total_batches)):\n",
    "    # Calculate start and end indices for current batch\n",
    "    start_idx = (current_batch - 1) * batch_size\n",
    "    end_idx = min(start_idx + batch_size, total_samples)\n",
    "\n",
    "    # Get current batch\n",
    "    batch = text_batch[start_idx:end_idx]\n",
    "\n",
    "    # Embed the batch\n",
    "    latent_batch = embed_input(batch)\n",
    "\n",
    "    # Save current batch embeddings\n",
    "    torch.save(latent_batch, f\"batches/latent_text_batch_{current_batch}.pt\")\n",
    "\n",
    "    # Increment batch counter\n",
    "    current_batch += 1\n",
    "\n",
    "    print(f\"\\rProcessed batch {current_batch-1} ({start_idx+1}-{end_idx} of {total_samples} samples)\", end='')\n",
    "\n",
    "# Code to combine all batches once complete:\n",
    "\"\"\"\n",
    "# Combine all batch files\n",
    "latent_text_batches = []\n",
    "for i in range(1, total_batches + 1):\n",
    "    batch_tensor = torch.load(f\"batches/latent_text_batch_{i}.pt\")\n",
    "    latent_text_batches.append(batch_tensor)\n",
    "    \n",
    "latent_text = torch.cat(latent_text_batches, dim=0)\n",
    "torch.save(latent_text, \"latent_text.pt\")\n",
    "\"\"\""
   ]
  },
  {
   "cell_type": "code",
   "execution_count": 8,
   "id": "89ec00ee",
   "metadata": {},
   "outputs": [],
   "source": [
    "batch_tensor = torch.load(f\"batches/latent_text_batch_{1}.pt\")"
   ]
  },
  {
   "cell_type": "code",
   "execution_count": 16,
   "id": "dee7670d",
   "metadata": {},
   "outputs": [
    {
     "name": "stdout",
     "output_type": "stream",
     "text": [
      "Processing first quarter...\n"
     ]
    },
    {
     "data": {
      "application/vnd.jupyter.widget-view+json": {
       "model_id": "5c922d3e0edd441590eaeb8288228bae",
       "version_major": 2,
       "version_minor": 0
      },
      "text/plain": [
       "  0%|          | 0/887 [00:00<?, ?it/s]"
      ]
     },
     "metadata": {},
     "output_type": "display_data"
    }
   ],
   "source": [
    "# Get total number of batches\n",
    "total_batches = 3550\n",
    "chunk_size = total_batches // 4\n",
    "\n",
    "# Process first quarter\n",
    "print(\"Processing first quarter...\")\n",
    "latent_text_first_batches = []\n",
    "for i in tqdm(range(1, chunk_size + 1)):\n",
    "    batch_tensor = torch.load(f\"batches/latent_text_batch_{i}.pt\")\n",
    "    latent_text_first_batches.append(batch_tensor)\n",
    "\n",
    "latent_text_first = torch.cat(latent_text_first_batches, dim=0)\n",
    "torch.save(latent_text_first, \"latent_text_first_quarter.pt\")\n",
    "\n",
    "\n",
    "# Process second quarter\n",
    "print(\"Processing second quarter...\")\n",
    "latent_text_second_batches = []\n",
    "for i in tqdm(range(chunk_size + 1, chunk_size * 2 + 1)):\n",
    "    batch_tensor = torch.load(f\"batches/latent_text_batch_{i}.pt\")\n",
    "    latent_text_second_batches.append(batch_tensor)\n",
    "\n",
    "latent_text_second = torch.cat(latent_text_second_batches, dim=0)\n",
    "torch.save(latent_text_second, \"latent_text_second_quarter.pt\")\n",
    "\n",
    "\n",
    "# Process third quarter\n",
    "print(\"Processing third quarter...\")\n",
    "latent_text_third_batches = []\n",
    "for i in tqdm(range(chunk_size * 2 + 1, chunk_size * 3 + 1)):\n",
    "    batch_tensor = torch.load(f\"batches/latent_text_batch_{i}.pt\")\n",
    "    latent_text_third_batches.append(batch_tensor)\n",
    "\n",
    "latent_text_third = torch.cat(latent_text_third_batches, dim=0)\n",
    "torch.save(latent_text_third, \"latent_text_third_quarter.pt\")\n",
    "\n",
    "\n",
    "# Process fourth quarter\n",
    "print(\"Processing fourth quarter...\")\n",
    "latent_text_fourth_batches = []\n",
    "for i in tqdm(range(chunk_size * 3 + 1, total_batches + 1)):\n",
    "    batch_tensor = torch.load(f\"batches/latent_text_batch_{i}.pt\")\n",
    "    latent_text_fourth_batches.append(batch_tensor)\n",
    "\n",
    "latent_text_fourth = torch.cat(latent_text_fourth_batches, dim=0)\n",
    "torch.save(latent_text_fourth, \"latent_text_fourth_quarter.pt\")\n",
    "\n",
    "# Combine all quarters\n",
    "print(\"Combining quarters...\")\n",
    "latent_text = torch.cat([\n",
    "    torch.load(\"latent_text_first_quarter.pt\"),\n",
    "    torch.load(\"latent_text_second_quarter.pt\"),\n",
    "    torch.load(\"latent_text_third_quarter.pt\"),\n",
    "    torch.load(\"latent_text_fourth_quarter.pt\")\n",
    "], dim=0)\n",
    "torch.save(latent_text, \"latent_text.pt\")\n",
    "\n",
    "print(\"Complete!\")\n"
   ]
  },
  {
   "cell_type": "markdown",
   "id": "7bc309fc",
   "metadata": {},
   "source": [
    "### Continue training"
   ]
  },
  {
   "cell_type": "code",
   "execution_count": null,
   "id": "62691a76",
   "metadata": {},
   "outputs": [],
   "source": [
    "# Load latent text vectors\n",
    "with torch.no_grad():\n",
    "    latent_text = torch.load(\"specter/latent_text.pt\").to(\"cpu\").detach()\n"
   ]
  },
  {
   "cell_type": "code",
   "execution_count": 21,
   "id": "715ecae3",
   "metadata": {},
   "outputs": [],
   "source": [
    "# Encode MNI vectors\n",
    "with torch.no_grad():\n",
    "    latent_neuro = autoencoder.encoder(\n",
    "        neuro_vectors.to(\"cpu\")\n",
    "    ).detach()"
   ]
  },
  {
   "cell_type": "code",
   "execution_count": 28,
   "id": "e1dac492-6cf6-46e0-9f1f-fabf7b02e0b5",
   "metadata": {
    "scrolled": true
   },
   "outputs": [
    {
     "name": "stdout",
     "output_type": "stream",
     "text": [
      "Epoch: 39,  val loss:  73.423 (initial) -> 24.695 (current)\r"
     ]
    },
    {
     "ename": "KeyboardInterrupt",
     "evalue": "",
     "output_type": "error",
     "traceback": [
      "\u001b[31m---------------------------------------------------------------------------\u001b[39m",
      "\u001b[31mKeyboardInterrupt\u001b[39m                         Traceback (most recent call last)",
      "\u001b[36mCell\u001b[39m\u001b[36m \u001b[39m\u001b[32mIn[28]\u001b[39m\u001b[32m, line 19\u001b[39m\n\u001b[32m      2\u001b[39m align_trainer = Trainer(\n\u001b[32m      3\u001b[39m     TextAligner(\n\u001b[32m      4\u001b[39m         latent_text_dim = \u001b[32m768\u001b[39m,\n\u001b[32m   (...)\u001b[39m\u001b[32m     15\u001b[39m     device=\u001b[33m\"\u001b[39m\u001b[33mauto\u001b[39m\u001b[33m\"\u001b[39m\n\u001b[32m     16\u001b[39m )\n\u001b[32m     18\u001b[39m \u001b[38;5;66;03m# Fit\u001b[39;00m\n\u001b[32m---> \u001b[39m\u001b[32m19\u001b[39m \u001b[43malign_trainer\u001b[49m\u001b[43m.\u001b[49m\u001b[43mfit\u001b[49m\u001b[43m(\u001b[49m\n\u001b[32m     20\u001b[39m \u001b[43m    \u001b[49m\u001b[43mlatent_text\u001b[49m\u001b[43m[\u001b[49m\u001b[43mtrain_inds\u001b[49m\u001b[43m]\u001b[49m\u001b[43m,\u001b[49m\n\u001b[32m     21\u001b[39m \u001b[43m    \u001b[49m\u001b[43mlatent_neuro\u001b[49m\u001b[43m[\u001b[49m\u001b[43mtrain_inds\u001b[49m\u001b[43m]\u001b[49m\n\u001b[32m     22\u001b[39m \u001b[43m)\u001b[49m\n\u001b[32m     24\u001b[39m \u001b[38;5;66;03m# Save\u001b[39;00m\n\u001b[32m     25\u001b[39m align_trainer.save(\u001b[33m\"\u001b[39m\u001b[33maligner.pt\u001b[39m\u001b[33m\"\u001b[39m)\n",
      "\u001b[36mFile \u001b[39m\u001b[32m~/code/lab_work/neurovlm/src/neurovlm/train.py:141\u001b[39m, in \u001b[36mTrainer.fit\u001b[39m\u001b[34m(self, X_train, y_train)\u001b[39m\n\u001b[32m    139\u001b[39m     loss.backward()\n\u001b[32m    140\u001b[39m     \u001b[38;5;66;03m# Step\u001b[39;00m\n\u001b[32m--> \u001b[39m\u001b[32m141\u001b[39m     \u001b[38;5;28;43mself\u001b[39;49m\u001b[43m.\u001b[49m\u001b[43moptimizer\u001b[49m\u001b[43m.\u001b[49m\u001b[43mstep\u001b[49m\u001b[43m(\u001b[49m\u001b[43m)\u001b[49m\n\u001b[32m    142\u001b[39m     \u001b[38;5;28mself\u001b[39m.optimizer.zero_grad()\n\u001b[32m    144\u001b[39m \u001b[38;5;28;01mif\u001b[39;00m \u001b[38;5;28mself\u001b[39m.verbose:\n\u001b[32m    145\u001b[39m     \u001b[38;5;66;03m# Report validation loss\u001b[39;00m\n",
      "\u001b[36mFile \u001b[39m\u001b[32m~/code/lab_work/cmmWork/neurovlm2/.venv/lib/python3.12/site-packages/torch/optim/optimizer.py:493\u001b[39m, in \u001b[36mOptimizer.profile_hook_step.<locals>.wrapper\u001b[39m\u001b[34m(*args, **kwargs)\u001b[39m\n\u001b[32m    488\u001b[39m         \u001b[38;5;28;01melse\u001b[39;00m:\n\u001b[32m    489\u001b[39m             \u001b[38;5;28;01mraise\u001b[39;00m \u001b[38;5;167;01mRuntimeError\u001b[39;00m(\n\u001b[32m    490\u001b[39m                 \u001b[33mf\u001b[39m\u001b[33m\"\u001b[39m\u001b[38;5;132;01m{\u001b[39;00mfunc\u001b[38;5;132;01m}\u001b[39;00m\u001b[33m must return None or a tuple of (new_args, new_kwargs), but got \u001b[39m\u001b[38;5;132;01m{\u001b[39;00mresult\u001b[38;5;132;01m}\u001b[39;00m\u001b[33m.\u001b[39m\u001b[33m\"\u001b[39m\n\u001b[32m    491\u001b[39m             )\n\u001b[32m--> \u001b[39m\u001b[32m493\u001b[39m out = \u001b[43mfunc\u001b[49m\u001b[43m(\u001b[49m\u001b[43m*\u001b[49m\u001b[43margs\u001b[49m\u001b[43m,\u001b[49m\u001b[43m \u001b[49m\u001b[43m*\u001b[49m\u001b[43m*\u001b[49m\u001b[43mkwargs\u001b[49m\u001b[43m)\u001b[49m\n\u001b[32m    494\u001b[39m \u001b[38;5;28mself\u001b[39m._optimizer_step_code()\n\u001b[32m    496\u001b[39m \u001b[38;5;66;03m# call optimizer step post hooks\u001b[39;00m\n",
      "\u001b[36mFile \u001b[39m\u001b[32m~/code/lab_work/cmmWork/neurovlm2/.venv/lib/python3.12/site-packages/torch/optim/optimizer.py:91\u001b[39m, in \u001b[36m_use_grad_for_differentiable.<locals>._use_grad\u001b[39m\u001b[34m(self, *args, **kwargs)\u001b[39m\n\u001b[32m     89\u001b[39m     torch.set_grad_enabled(\u001b[38;5;28mself\u001b[39m.defaults[\u001b[33m\"\u001b[39m\u001b[33mdifferentiable\u001b[39m\u001b[33m\"\u001b[39m])\n\u001b[32m     90\u001b[39m     torch._dynamo.graph_break()\n\u001b[32m---> \u001b[39m\u001b[32m91\u001b[39m     ret = \u001b[43mfunc\u001b[49m\u001b[43m(\u001b[49m\u001b[38;5;28;43mself\u001b[39;49m\u001b[43m,\u001b[49m\u001b[43m \u001b[49m\u001b[43m*\u001b[49m\u001b[43margs\u001b[49m\u001b[43m,\u001b[49m\u001b[43m \u001b[49m\u001b[43m*\u001b[49m\u001b[43m*\u001b[49m\u001b[43mkwargs\u001b[49m\u001b[43m)\u001b[49m\n\u001b[32m     92\u001b[39m \u001b[38;5;28;01mfinally\u001b[39;00m:\n\u001b[32m     93\u001b[39m     torch._dynamo.graph_break()\n",
      "\u001b[36mFile \u001b[39m\u001b[32m~/code/lab_work/cmmWork/neurovlm2/.venv/lib/python3.12/site-packages/torch/optim/adamw.py:243\u001b[39m, in \u001b[36mAdamW.step\u001b[39m\u001b[34m(self, closure)\u001b[39m\n\u001b[32m    230\u001b[39m     beta1, beta2 = cast(Tuple[\u001b[38;5;28mfloat\u001b[39m, \u001b[38;5;28mfloat\u001b[39m], group[\u001b[33m\"\u001b[39m\u001b[33mbetas\u001b[39m\u001b[33m\"\u001b[39m])\n\u001b[32m    232\u001b[39m     has_complex = \u001b[38;5;28mself\u001b[39m._init_group(\n\u001b[32m    233\u001b[39m         group,\n\u001b[32m    234\u001b[39m         params_with_grad,\n\u001b[32m   (...)\u001b[39m\u001b[32m    240\u001b[39m         state_steps,\n\u001b[32m    241\u001b[39m     )\n\u001b[32m--> \u001b[39m\u001b[32m243\u001b[39m     \u001b[43madamw\u001b[49m\u001b[43m(\u001b[49m\n\u001b[32m    244\u001b[39m \u001b[43m        \u001b[49m\u001b[43mparams_with_grad\u001b[49m\u001b[43m,\u001b[49m\n\u001b[32m    245\u001b[39m \u001b[43m        \u001b[49m\u001b[43mgrads\u001b[49m\u001b[43m,\u001b[49m\n\u001b[32m    246\u001b[39m \u001b[43m        \u001b[49m\u001b[43mexp_avgs\u001b[49m\u001b[43m,\u001b[49m\n\u001b[32m    247\u001b[39m \u001b[43m        \u001b[49m\u001b[43mexp_avg_sqs\u001b[49m\u001b[43m,\u001b[49m\n\u001b[32m    248\u001b[39m \u001b[43m        \u001b[49m\u001b[43mmax_exp_avg_sqs\u001b[49m\u001b[43m,\u001b[49m\n\u001b[32m    249\u001b[39m \u001b[43m        \u001b[49m\u001b[43mstate_steps\u001b[49m\u001b[43m,\u001b[49m\n\u001b[32m    250\u001b[39m \u001b[43m        \u001b[49m\u001b[43mamsgrad\u001b[49m\u001b[43m=\u001b[49m\u001b[43mamsgrad\u001b[49m\u001b[43m,\u001b[49m\n\u001b[32m    251\u001b[39m \u001b[43m        \u001b[49m\u001b[43mbeta1\u001b[49m\u001b[43m=\u001b[49m\u001b[43mbeta1\u001b[49m\u001b[43m,\u001b[49m\n\u001b[32m    252\u001b[39m \u001b[43m        \u001b[49m\u001b[43mbeta2\u001b[49m\u001b[43m=\u001b[49m\u001b[43mbeta2\u001b[49m\u001b[43m,\u001b[49m\n\u001b[32m    253\u001b[39m \u001b[43m        \u001b[49m\u001b[43mlr\u001b[49m\u001b[43m=\u001b[49m\u001b[43mgroup\u001b[49m\u001b[43m[\u001b[49m\u001b[33;43m\"\u001b[39;49m\u001b[33;43mlr\u001b[39;49m\u001b[33;43m\"\u001b[39;49m\u001b[43m]\u001b[49m\u001b[43m,\u001b[49m\n\u001b[32m    254\u001b[39m \u001b[43m        \u001b[49m\u001b[43mweight_decay\u001b[49m\u001b[43m=\u001b[49m\u001b[43mgroup\u001b[49m\u001b[43m[\u001b[49m\u001b[33;43m\"\u001b[39;49m\u001b[33;43mweight_decay\u001b[39;49m\u001b[33;43m\"\u001b[39;49m\u001b[43m]\u001b[49m\u001b[43m,\u001b[49m\n\u001b[32m    255\u001b[39m \u001b[43m        \u001b[49m\u001b[43meps\u001b[49m\u001b[43m=\u001b[49m\u001b[43mgroup\u001b[49m\u001b[43m[\u001b[49m\u001b[33;43m\"\u001b[39;49m\u001b[33;43meps\u001b[39;49m\u001b[33;43m\"\u001b[39;49m\u001b[43m]\u001b[49m\u001b[43m,\u001b[49m\n\u001b[32m    256\u001b[39m \u001b[43m        \u001b[49m\u001b[43mmaximize\u001b[49m\u001b[43m=\u001b[49m\u001b[43mgroup\u001b[49m\u001b[43m[\u001b[49m\u001b[33;43m\"\u001b[39;49m\u001b[33;43mmaximize\u001b[39;49m\u001b[33;43m\"\u001b[39;49m\u001b[43m]\u001b[49m\u001b[43m,\u001b[49m\n\u001b[32m    257\u001b[39m \u001b[43m        \u001b[49m\u001b[43mforeach\u001b[49m\u001b[43m=\u001b[49m\u001b[43mgroup\u001b[49m\u001b[43m[\u001b[49m\u001b[33;43m\"\u001b[39;49m\u001b[33;43mforeach\u001b[39;49m\u001b[33;43m\"\u001b[39;49m\u001b[43m]\u001b[49m\u001b[43m,\u001b[49m\n\u001b[32m    258\u001b[39m \u001b[43m        \u001b[49m\u001b[43mcapturable\u001b[49m\u001b[43m=\u001b[49m\u001b[43mgroup\u001b[49m\u001b[43m[\u001b[49m\u001b[33;43m\"\u001b[39;49m\u001b[33;43mcapturable\u001b[39;49m\u001b[33;43m\"\u001b[39;49m\u001b[43m]\u001b[49m\u001b[43m,\u001b[49m\n\u001b[32m    259\u001b[39m \u001b[43m        \u001b[49m\u001b[43mdifferentiable\u001b[49m\u001b[43m=\u001b[49m\u001b[43mgroup\u001b[49m\u001b[43m[\u001b[49m\u001b[33;43m\"\u001b[39;49m\u001b[33;43mdifferentiable\u001b[39;49m\u001b[33;43m\"\u001b[39;49m\u001b[43m]\u001b[49m\u001b[43m,\u001b[49m\n\u001b[32m    260\u001b[39m \u001b[43m        \u001b[49m\u001b[43mfused\u001b[49m\u001b[43m=\u001b[49m\u001b[43mgroup\u001b[49m\u001b[43m[\u001b[49m\u001b[33;43m\"\u001b[39;49m\u001b[33;43mfused\u001b[39;49m\u001b[33;43m\"\u001b[39;49m\u001b[43m]\u001b[49m\u001b[43m,\u001b[49m\n\u001b[32m    261\u001b[39m \u001b[43m        \u001b[49m\u001b[43mgrad_scale\u001b[49m\u001b[43m=\u001b[49m\u001b[38;5;28;43mgetattr\u001b[39;49m\u001b[43m(\u001b[49m\u001b[38;5;28;43mself\u001b[39;49m\u001b[43m,\u001b[49m\u001b[43m \u001b[49m\u001b[33;43m\"\u001b[39;49m\u001b[33;43mgrad_scale\u001b[39;49m\u001b[33;43m\"\u001b[39;49m\u001b[43m,\u001b[49m\u001b[43m \u001b[49m\u001b[38;5;28;43;01mNone\u001b[39;49;00m\u001b[43m)\u001b[49m\u001b[43m,\u001b[49m\n\u001b[32m    262\u001b[39m \u001b[43m        \u001b[49m\u001b[43mfound_inf\u001b[49m\u001b[43m=\u001b[49m\u001b[38;5;28;43mgetattr\u001b[39;49m\u001b[43m(\u001b[49m\u001b[38;5;28;43mself\u001b[39;49m\u001b[43m,\u001b[49m\u001b[43m \u001b[49m\u001b[33;43m\"\u001b[39;49m\u001b[33;43mfound_inf\u001b[39;49m\u001b[33;43m\"\u001b[39;49m\u001b[43m,\u001b[49m\u001b[43m \u001b[49m\u001b[38;5;28;43;01mNone\u001b[39;49;00m\u001b[43m)\u001b[49m\u001b[43m,\u001b[49m\n\u001b[32m    263\u001b[39m \u001b[43m        \u001b[49m\u001b[43mhas_complex\u001b[49m\u001b[43m=\u001b[49m\u001b[43mhas_complex\u001b[49m\u001b[43m,\u001b[49m\n\u001b[32m    264\u001b[39m \u001b[43m    \u001b[49m\u001b[43m)\u001b[49m\n\u001b[32m    266\u001b[39m \u001b[38;5;28;01mreturn\u001b[39;00m loss\n",
      "\u001b[36mFile \u001b[39m\u001b[32m~/code/lab_work/cmmWork/neurovlm2/.venv/lib/python3.12/site-packages/torch/optim/optimizer.py:154\u001b[39m, in \u001b[36m_disable_dynamo_if_unsupported.<locals>.wrapper.<locals>.maybe_fallback\u001b[39m\u001b[34m(*args, **kwargs)\u001b[39m\n\u001b[32m    152\u001b[39m     \u001b[38;5;28;01mreturn\u001b[39;00m disabled_func(*args, **kwargs)\n\u001b[32m    153\u001b[39m \u001b[38;5;28;01melse\u001b[39;00m:\n\u001b[32m--> \u001b[39m\u001b[32m154\u001b[39m     \u001b[38;5;28;01mreturn\u001b[39;00m \u001b[43mfunc\u001b[49m\u001b[43m(\u001b[49m\u001b[43m*\u001b[49m\u001b[43margs\u001b[49m\u001b[43m,\u001b[49m\u001b[43m \u001b[49m\u001b[43m*\u001b[49m\u001b[43m*\u001b[49m\u001b[43mkwargs\u001b[49m\u001b[43m)\u001b[49m\n",
      "\u001b[36mFile \u001b[39m\u001b[32m~/code/lab_work/cmmWork/neurovlm2/.venv/lib/python3.12/site-packages/torch/optim/adamw.py:875\u001b[39m, in \u001b[36madamw\u001b[39m\u001b[34m(params, grads, exp_avgs, exp_avg_sqs, max_exp_avg_sqs, state_steps, foreach, capturable, differentiable, fused, grad_scale, found_inf, has_complex, amsgrad, beta1, beta2, lr, weight_decay, eps, maximize)\u001b[39m\n\u001b[32m    872\u001b[39m \u001b[38;5;28;01melse\u001b[39;00m:\n\u001b[32m    873\u001b[39m     func = _single_tensor_adamw\n\u001b[32m--> \u001b[39m\u001b[32m875\u001b[39m \u001b[43mfunc\u001b[49m\u001b[43m(\u001b[49m\n\u001b[32m    876\u001b[39m \u001b[43m    \u001b[49m\u001b[43mparams\u001b[49m\u001b[43m,\u001b[49m\n\u001b[32m    877\u001b[39m \u001b[43m    \u001b[49m\u001b[43mgrads\u001b[49m\u001b[43m,\u001b[49m\n\u001b[32m    878\u001b[39m \u001b[43m    \u001b[49m\u001b[43mexp_avgs\u001b[49m\u001b[43m,\u001b[49m\n\u001b[32m    879\u001b[39m \u001b[43m    \u001b[49m\u001b[43mexp_avg_sqs\u001b[49m\u001b[43m,\u001b[49m\n\u001b[32m    880\u001b[39m \u001b[43m    \u001b[49m\u001b[43mmax_exp_avg_sqs\u001b[49m\u001b[43m,\u001b[49m\n\u001b[32m    881\u001b[39m \u001b[43m    \u001b[49m\u001b[43mstate_steps\u001b[49m\u001b[43m,\u001b[49m\n\u001b[32m    882\u001b[39m \u001b[43m    \u001b[49m\u001b[43mamsgrad\u001b[49m\u001b[43m=\u001b[49m\u001b[43mamsgrad\u001b[49m\u001b[43m,\u001b[49m\n\u001b[32m    883\u001b[39m \u001b[43m    \u001b[49m\u001b[43mbeta1\u001b[49m\u001b[43m=\u001b[49m\u001b[43mbeta1\u001b[49m\u001b[43m,\u001b[49m\n\u001b[32m    884\u001b[39m \u001b[43m    \u001b[49m\u001b[43mbeta2\u001b[49m\u001b[43m=\u001b[49m\u001b[43mbeta2\u001b[49m\u001b[43m,\u001b[49m\n\u001b[32m    885\u001b[39m \u001b[43m    \u001b[49m\u001b[43mlr\u001b[49m\u001b[43m=\u001b[49m\u001b[43mlr\u001b[49m\u001b[43m,\u001b[49m\n\u001b[32m    886\u001b[39m \u001b[43m    \u001b[49m\u001b[43mweight_decay\u001b[49m\u001b[43m=\u001b[49m\u001b[43mweight_decay\u001b[49m\u001b[43m,\u001b[49m\n\u001b[32m    887\u001b[39m \u001b[43m    \u001b[49m\u001b[43meps\u001b[49m\u001b[43m=\u001b[49m\u001b[43meps\u001b[49m\u001b[43m,\u001b[49m\n\u001b[32m    888\u001b[39m \u001b[43m    \u001b[49m\u001b[43mmaximize\u001b[49m\u001b[43m=\u001b[49m\u001b[43mmaximize\u001b[49m\u001b[43m,\u001b[49m\n\u001b[32m    889\u001b[39m \u001b[43m    \u001b[49m\u001b[43mcapturable\u001b[49m\u001b[43m=\u001b[49m\u001b[43mcapturable\u001b[49m\u001b[43m,\u001b[49m\n\u001b[32m    890\u001b[39m \u001b[43m    \u001b[49m\u001b[43mdifferentiable\u001b[49m\u001b[43m=\u001b[49m\u001b[43mdifferentiable\u001b[49m\u001b[43m,\u001b[49m\n\u001b[32m    891\u001b[39m \u001b[43m    \u001b[49m\u001b[43mgrad_scale\u001b[49m\u001b[43m=\u001b[49m\u001b[43mgrad_scale\u001b[49m\u001b[43m,\u001b[49m\n\u001b[32m    892\u001b[39m \u001b[43m    \u001b[49m\u001b[43mfound_inf\u001b[49m\u001b[43m=\u001b[49m\u001b[43mfound_inf\u001b[49m\u001b[43m,\u001b[49m\n\u001b[32m    893\u001b[39m \u001b[43m    \u001b[49m\u001b[43mhas_complex\u001b[49m\u001b[43m=\u001b[49m\u001b[43mhas_complex\u001b[49m\u001b[43m,\u001b[49m\n\u001b[32m    894\u001b[39m \u001b[43m\u001b[49m\u001b[43m)\u001b[49m\n",
      "\u001b[36mFile \u001b[39m\u001b[32m~/code/lab_work/cmmWork/neurovlm2/.venv/lib/python3.12/site-packages/torch/optim/adamw.py:426\u001b[39m, in \u001b[36m_single_tensor_adamw\u001b[39m\u001b[34m(params, grads, exp_avgs, exp_avg_sqs, max_exp_avg_sqs, state_steps, grad_scale, found_inf, amsgrad, beta1, beta2, lr, weight_decay, eps, maximize, capturable, differentiable, has_complex)\u001b[39m\n\u001b[32m    424\u001b[39m \u001b[38;5;66;03m# Decay the first and second moment running average coefficient\u001b[39;00m\n\u001b[32m    425\u001b[39m exp_avg.lerp_(grad, \u001b[32m1\u001b[39m - device_beta1)\n\u001b[32m--> \u001b[39m\u001b[32m426\u001b[39m \u001b[43mexp_avg_sq\u001b[49m\u001b[43m.\u001b[49m\u001b[43mmul_\u001b[49m\u001b[43m(\u001b[49m\u001b[43mbeta2\u001b[49m\u001b[43m)\u001b[49m\u001b[43m.\u001b[49m\u001b[43maddcmul_\u001b[49m\u001b[43m(\u001b[49m\u001b[43mgrad\u001b[49m\u001b[43m,\u001b[49m\u001b[43m \u001b[49m\u001b[43mgrad\u001b[49m\u001b[43m,\u001b[49m\u001b[43m \u001b[49m\u001b[43mvalue\u001b[49m\u001b[43m=\u001b[49m\u001b[32;43m1\u001b[39;49m\u001b[43m \u001b[49m\u001b[43m-\u001b[49m\u001b[43m \u001b[49m\u001b[43mbeta2\u001b[49m\u001b[43m)\u001b[49m\n\u001b[32m    428\u001b[39m \u001b[38;5;28;01mif\u001b[39;00m capturable \u001b[38;5;129;01mor\u001b[39;00m differentiable:\n\u001b[32m    429\u001b[39m     step = step_t\n",
      "\u001b[31mKeyboardInterrupt\u001b[39m: "
     ]
    }
   ],
   "source": [
    "# Train\n",
    "align_trainer = Trainer(\n",
    "    TextAligner(\n",
    "        latent_text_dim = 768,\n",
    "        hidden_dim = 384,\n",
    "        latent_neuro_dim = 384,\n",
    "        seed=0),\n",
    "    n_epochs=500,\n",
    "    batch_size=1028,\n",
    "    lr=2e-4,\n",
    "    loss_fn=nn.MSELoss(),\n",
    "    optimizer=torch.optim.AdamW,\n",
    "    X_val=latent_text[val_inds],\n",
    "    y_val=latent_neuro[val_inds],\n",
    "    device=\"auto\"\n",
    ")\n",
    "\n",
    "# Fit\n",
    "align_trainer.fit(\n",
    "    latent_text[train_inds],\n",
    "    latent_neuro[train_inds]\n",
    ")\n",
    "\n",
    "# Save\n",
    "align_trainer.save(\"aligner.pt\")\n",
    "\n",
    "\n",
    "# Unpack\n",
    "aligner = align_trainer.model"
   ]
  },
  {
   "cell_type": "code",
   "execution_count": 7,
   "id": "38f0f65d-330f-4272-938c-4f203913d1a8",
   "metadata": {},
   "outputs": [],
   "source": [
    "# Skip above if previously trained\n",
    "aligner = torch.load(\n",
    "    \"specter/aligner.pt\", weights_only=False\n",
    ").to(device)"
   ]
  },
  {
   "cell_type": "markdown",
   "id": "37c0e4d3-55cd-4819-bafb-f351784a8c8c",
   "metadata": {},
   "source": [
    "## 5. Results\n",
    "\n",
    "Lastly, test predictions are made on \"vision\" and \"motor\" and plotted. These results correspond to the visual and motor cortices, respectively. The next tutorial explores vector projection for when a query is out-of-sample or uncommon in neuroscience research, yet has semantic mappings to other neuroscientific terms."
   ]
  },
  {
   "cell_type": "code",
   "execution_count": 24,
   "id": "62d1bb68",
   "metadata": {},
   "outputs": [
    {
     "data": {
      "application/vnd.jupyter.widget-view+json": {
       "model_id": "003223b699254d7daf496e924bc200aa",
       "version_major": 2,
       "version_minor": 0
      },
      "text/plain": [
       "Fetching 4 files:   0%|          | 0/4 [00:00<?, ?it/s]"
      ]
     },
     "metadata": {},
     "output_type": "display_data"
    },
    {
     "data": {
      "text/plain": [
       "'specter2_adhoc_query'"
      ]
     },
     "execution_count": 24,
     "metadata": {},
     "output_type": "execute_result"
    }
   ],
   "source": [
    "# load model and tokenizer\n",
    "tokenizer = AutoTokenizer.from_pretrained('allenai/specter2_aug2023refresh_base')\n",
    "\n",
    "#load base model\n",
    "model = AutoAdapterModel.from_pretrained(\"allenai/specter2_aug2023refresh_base\")\n",
    "\n",
    "model.load_adapter(\"allenai/specter2_adhoc_query\", source=\"hf\", load_as=\"specter2_adhoc_query\", set_active=True)"
   ]
  },
  {
   "cell_type": "code",
   "execution_count": 27,
   "id": "bbce5f17-f1fd-48b8-8861-d68f0848ce49",
   "metadata": {},
   "outputs": [
    {
     "data": {
      "image/png": "[encoded data removed]",
      "text/plain": [
       "<Figure size 800x200 with 8 Axes>"
      ]
     },
     "metadata": {},
     "output_type": "display_data"
    }
   ],
   "source": [
    "# Load mask\n",
    "mask_arrays = np.load(f\"{data_dir}/mask.npz\", allow_pickle=True)\n",
    "mask = mask_arrays[\"mask\"]\n",
    "affine = mask_arrays[\"affine\"]\n",
    "\n",
    "# Test queries\n",
    "queries = [\"Visual\", \"motor cortex\"]\n",
    "fig, axes = plt.subplots(nrows=1, ncols=2, figsize=(8, 2))\n",
    "for i, query in enumerate(queries):\n",
    "    # Encode text\n",
    "    query_embedding = embed_input(query)\n",
    "    \n",
    "    # Align text\n",
    "    aligned_text = aligner.to(\"cpu\")(query_embedding)\n",
    "    \n",
    "    # Decode brain\n",
    "    neuro_pred = autoencoder.to(\"cpu\").decoder(aligned_text) \\\n",
    "              .detach().cpu().numpy().squeeze()\n",
    "\n",
    "\n",
    "    # Plot\n",
    "    pred = np.zeros(mask.shape)\n",
    "    pred[mask] = neuro_pred\n",
    "    img = nib.Nifti1Image(pred, affine)\n",
    "    plot_glass_brain(img, threshold=.5, vmin=.5, vmax=1,\n",
    "                     title=query, axes=axes[i]);"
   ]
  },
  {
   "cell_type": "code",
   "execution_count": 12,
   "id": "7dab2fbd",
   "metadata": {},
   "outputs": [
    {
     "data": {
      "text/plain": [
       "array([0.01357393, 0.01728342, 0.02010185, ..., 0.01850935, 0.0231086 ,\n",
       "       0.02147684], shape=(28542,), dtype=float32)"
      ]
     },
     "execution_count": 12,
     "metadata": {},
     "output_type": "execute_result"
    }
   ],
   "source": [
    "neuro_pred"
   ]
  },
  {
   "cell_type": "code",
   "execution_count": 16,
   "id": "0970624d",
   "metadata": {},
   "outputs": [
    {
     "data": {
      "text/plain": [
       "torch.Size([28393, 768])"
      ]
     },
     "execution_count": 16,
     "metadata": {},
     "output_type": "execute_result"
    }
   ],
   "source": [
    "latent_text.size()"
   ]
  },
  {
   "cell_type": "code",
   "execution_count": 17,
   "id": "67680181",
   "metadata": {},
   "outputs": [
    {
     "data": {
      "text/plain": [
       "28393"
      ]
     },
     "execution_count": 17,
     "metadata": {},
     "output_type": "execute_result"
    }
   ],
   "source": [
    "len(df_pubs)"
   ]
  },
  {
   "cell_type": "code",
   "execution_count": null,
   "id": "132d18b8",
   "metadata": {},
   "outputs": [],
   "source": []
  }
 ],
 "metadata": {
  "kernelspec": {
   "display_name": "Python (neurovlm)",
   "language": "python",
   "name": "neurovlm"
  },
  "language_info": {
   "codemirror_mode": {
    "name": "ipython",
    "version": 3
   },
   "file_extension": ".py",
   "mimetype": "text/x-python",
   "name": "python",
   "nbconvert_exporter": "python",
   "pygments_lexer": "ipython3",
   "version": "3.12.11"
  }
 },
 "nbformat": 4,
 "nbformat_minor": 5
}
