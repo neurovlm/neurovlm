{
 "cells": [
  {
   "cell_type": "code",
   "execution_count": 1,
   "id": "9464703a-db53-4f6b-bbef-5c3b41b5ebf7",
   "metadata": {},
   "outputs": [],
   "source": [
    "import numpy as np\n",
    "import pandas as pd\n",
    "\n",
    "from sklearn.model_selection import train_test_split\n",
    "\n",
    "import torch\n",
    "from torch import nn\n",
    "\n",
    "import nibabel as nib\n",
    "from nilearn import maskers\n",
    "from nilearn.plotting import plot_stat_map\n",
    "\n",
    "from neurovlm.data import get_data_dir\n",
    "from neurovlm.models import NeuroAutoEncoder\n",
    "from neurovlm.train import Trainer, which_device\n",
    "device = which_device()\n",
    "data_dir = get_data_dir()"
   ]
  },
  {
   "cell_type": "markdown",
   "id": "3caab606-6a69-4e53-be20-0db092d1a989",
   "metadata": {},
   "source": [
    "# Autoencoder\n",
    "\n",
    "The first step is to reduce the dimensionality of the 28k MNI space neuro vector. Several work uses difumo. Instead, we use an autoencoder to map from $d=28,000$ to a $k=768$ latent space. "
   ]
  },
  {
   "cell_type": "markdown",
   "id": "1498bc0c-61ed-41ca-ac4a-ddb8278957b5",
   "metadata": {},
   "source": [
    "## Load Neurovectors\n",
    "\n",
    "Results from the coordinate smoothing notebook."
   ]
  },
  {
   "cell_type": "code",
   "execution_count": 2,
   "id": "28c451a8",
   "metadata": {},
   "outputs": [],
   "source": [
    "# Load NeuroConText pmids\n",
    "from pathlib import Path\n",
    "nc_data_dir = Path('/Users/ryanhammonds/projects/NeuroConText/data_NeuroConText')\n",
    "train_pmids = np.array(list(pd.read_pickle(nc_data_dir/ \"train_pmids.pkl\")))\n",
    "test_pmids = np.array(list(pd.read_pickle(nc_data_dir / \"test_pmids.pkl\")))\n",
    "pmids = np.concatenate((train_pmids, test_pmids))\n",
    "pmids = np.sort(pmids)\n",
    "\n",
    "# Load neurovlm data\n",
    "neurolm_dir = get_data_dir()\n",
    "df = pd.read_parquet(get_data_dir() / \"publications_more.parquet\")\n",
    "assert pd.Series(pmids).isin(df[\"pmid\"]).all() # we have all the ids the neurocontext has and 10k more\n",
    "orig = torch.load(neurolm_dir / \"neuro_vectors.pt\", weights_only=False).detach().cpu()\n",
    "\n",
    "# Filter by neurocontext pmids\n",
    "mask = df[\"pmid\"].isin(pmids)\n",
    "df = df[mask].copy()\n",
    "df.sort_values(by=\"pmid\", inplace=True)\n",
    "df[\"description\"] = df[\"description\"].str.strip(\" \").str.strip(\"\\n\")\n",
    "df.reset_index(drop=True, inplace=True)"
   ]
  },
  {
   "cell_type": "code",
   "execution_count": null,
   "id": "05772c73",
   "metadata": {},
   "outputs": [],
   "source": [
    "neuro_vectors = torch.load(\n",
    "    data_dir / \"neuro_vectors.pt\", weights_only=True\n",
    ").to(\"cpu\")\n",
    "neuro_vectors = neuro_vectors[np.array(mask)]\n",
    "torch.save(neuro_vectors, data_dir / \"neuro_vectors_nc.pt\")\n",
    "\n",
    "# neuro_vectors = torch.load(data_dir / \"neuro_vectors_nc.pt\")"
   ]
  },
  {
   "cell_type": "markdown",
   "id": "c8451bc2-b73f-4598-9110-4caae3aed647",
   "metadata": {},
   "source": [
    "## Training\n",
    "\n",
    "Train an autoencoder on the neuro-vectors.\n",
    "\n",
    "1. Encoder: Neuro-vector to low-dimensional (384) latent vector / embedding space\n",
    "2. Decoder: Latent vector to produces MNI space predictions.\n",
    "\n",
    "Training is complete in two stages:\n",
    "\n",
    "1. Initial training anywhere neurovectors > 0\n",
    "2. Additional training to shrink the size of activations closer to targets"
   ]
  },
  {
   "cell_type": "code",
   "execution_count": 4,
   "id": "0b36082c-e9bc-405e-915b-e56583527aa3",
   "metadata": {},
   "outputs": [],
   "source": [
    "# Train/test/validation split\n",
    "inds = torch.arange(len(neuro_vectors))\n",
    "train_inds, test_inds = train_test_split(\n",
    "    inds, train_size=0.8, random_state=0\n",
    ")\n",
    "test_inds, val_inds = train_test_split(\n",
    "    test_inds, train_size=0.5, random_state=1\n",
    ")"
   ]
  },
  {
   "cell_type": "markdown",
   "id": "bbed4677",
   "metadata": {},
   "source": [
    "### Stage 1\n",
    "\n",
    "Training is on initially with a permissive threshold, e.g. > 0.0."
   ]
  },
  {
   "cell_type": "code",
   "execution_count": 5,
   "id": "499552b5-9477-4eb5-b137-fd0e3c8d8a56",
   "metadata": {
    "scrolled": true
   },
   "outputs": [
    {
     "name": "stdout",
     "output_type": "stream",
     "text": [
      "Epoch: -1, val loss: 0.69316\n",
      "Epoch: 0, val loss: 0.39554\n",
      "Epoch: 1, val loss: 0.3667\n",
      "Epoch: 2, val loss: 0.33544\n",
      "Epoch: 3, val loss: 0.31867\n",
      "Epoch: 4, val loss: 0.30477\n",
      "Epoch: 5, val loss: 0.29105\n",
      "Epoch: 6, val loss: 0.28482\n",
      "Epoch: 7, val loss: 0.27306\n",
      "Epoch: 8, val loss: 0.26507\n",
      "Epoch: 9, val loss: 0.2579\n",
      "Epoch: 10, val loss: 0.25212\n",
      "Epoch: 11, val loss: 0.24392\n",
      "Epoch: 12, val loss: 0.23585\n",
      "Epoch: 13, val loss: 0.23042\n",
      "Epoch: 14, val loss: 0.22694\n",
      "Epoch: 15, val loss: 0.22361\n",
      "Epoch: 16, val loss: 0.2217\n",
      "Epoch: 17, val loss: 0.22038\n",
      "Epoch: 18, val loss: 0.22119\n",
      "Epoch: 19, val loss: 0.21759\n"
     ]
    }
   ],
   "source": [
    "# Initial training\n",
    "neuro_vectors_bin = neuro_vectors.clone()\n",
    "neuro_vectors_bin[neuro_vectors_bin > 0.0] = 1.0\n",
    "trainer = Trainer(\n",
    "    NeuroAutoEncoder(seed=0, dim_h0=2304, dim_h1=1152, dim_latent=768, out=\"logit\"),\n",
    "    n_epochs=20,\n",
    "    batch_size=256,\n",
    "    lr=1e-3,\n",
    "    loss_fn=nn.BCEWithLogitsLoss(),\n",
    "    optimizer=torch.optim.AdamW,\n",
    "    X_val=neuro_vectors_bin[val_inds],\n",
    "    device=\"auto\"\n",
    ")\n",
    "\n",
    "# Fit\n",
    "trainer.fit(neuro_vectors_bin[train_inds])\n",
    "trainer.restore_best()\n",
    "\n",
    "# Save\n",
    "trainer.save(data_dir / \"autoencoder_init_nc.pt\")\n",
    "\n",
    "# Unpack\n",
    "autoencoder_init = trainer.model\n",
    "# Epoch: 9,  val loss:  0.69321 (initial) -> 0.22368 (current)"
   ]
  },
  {
   "cell_type": "markdown",
   "id": "a9cd6160",
   "metadata": {},
   "source": [
    "### Stage 2\n",
    "\n",
    "A second round of training on stricter threshold. This contracts clusters closer to the 9mm target."
   ]
  },
  {
   "cell_type": "code",
   "execution_count": 24,
   "id": "43145ff2",
   "metadata": {},
   "outputs": [],
   "source": [
    "autoencoder_init = torch.load(data_dir / \"autoencoder_init_nc.pt\", weights_only=False)"
   ]
  },
  {
   "cell_type": "code",
   "execution_count": null,
   "id": "4b13316f",
   "metadata": {},
   "outputs": [],
   "source": [
    "# Additional training on tighter thresholded targets\n",
    "neuro_vectors_bin = neuro_vectors.clone()\n",
    "neuro_vectors_bin[neuro_vectors_bin > 0.001] = 1.0\n",
    "\n",
    "trainer = Trainer(\n",
    "    autoencoder_init,\n",
    "    n_epochs=10,\n",
    "    batch_size=256,\n",
    "    lr=1e-4,\n",
    "    loss_fn=nn.BCEWithLogitsLoss(),\n",
    "    optimizer=torch.optim.AdamW,\n",
    "    X_val=neuro_vectors_bin[val_inds],\n",
    "    device=\"auto\"\n",
    ")\n",
    "\n",
    "# Fit\n",
    "trainer.fit(neuro_vectors_bin[train_inds])\n",
    "\n",
    "# Save\n",
    "trainer.restore_best()\n",
    "trainer.save(data_dir / \"autoencoder_nc_soft.pt\")\n",
    "\n",
    "# Unpack\n",
    "autoencoder_soft = trainer.model"
   ]
  },
  {
   "cell_type": "markdown",
   "id": "c0b21b4c",
   "metadata": {},
   "source": [
    "### Stage 3\n",
    "\n",
    "A final round of training on probabilistic targets."
   ]
  },
  {
   "cell_type": "code",
   "execution_count": null,
   "id": "2e13bfcf",
   "metadata": {},
   "outputs": [
    {
     "name": "stdout",
     "output_type": "stream",
     "text": [
      "Epoch: -1, val loss: 0.058123\n",
      "Epoch: 0, val loss: 0.020436\n",
      "Epoch: 1, val loss: 0.020061\n",
      "Epoch: 2, val loss: 0.019883\n",
      "Epoch: 3, val loss: 0.019772\n",
      "Epoch: 4, val loss: 0.019701\n",
      "Epoch: 5, val loss: 0.01964\n",
      "Epoch: 6, val loss: 0.0196\n",
      "Epoch: 7, val loss: 0.019574\n",
      "Epoch: 8, val loss: 0.019549\n",
      "Epoch: 9, val loss: 0.019536\n"
     ]
    }
   ],
   "source": [
    "# Additional training on tighter thresholded targets\n",
    "neuro_vectors_bin = neuro_vectors.clone()\n",
    "\n",
    "trainer = Trainer(\n",
    "    autoencoder_soft,\n",
    "    #torch.load(data_dir / \"autoencoder_nc_soft.pt\", weights_only=False),\n",
    "    n_epochs=10,\n",
    "    batch_size=256,\n",
    "    lr=8e-5,\n",
    "    loss_fn=nn.BCEWithLogitsLoss(),\n",
    "    optimizer=torch.optim.AdamW,\n",
    "    X_val=neuro_vectors_bin[val_inds],\n",
    "    device=\"auto\"\n",
    ")\n",
    "\n",
    "# Fit\n",
    "trainer.fit(neuro_vectors_bin[train_inds])\n",
    "\n",
    "# Save\n",
    "trainer.save(data_dir / \"autoencoder_nc.pt\")\n",
    "\n",
    "# Unpack\n",
    "autoencoder = trainer.model"
   ]
  },
  {
   "cell_type": "code",
   "execution_count": 11,
   "id": "feec209c",
   "metadata": {},
   "outputs": [],
   "source": [
    "trainer.restore_best()\n",
    "trainer.save(data_dir / \"autoencoder_nc.pt\")"
   ]
  },
  {
   "cell_type": "code",
   "execution_count": 12,
   "id": "d0717b17-d165-4bb3-9bbc-5141b5705594",
   "metadata": {},
   "outputs": [],
   "source": [
    "# Skip above if previously trained\n",
    "autoencoder = torch.load(\n",
    "   data_dir / \"autoencoder_nc.pt\", weights_only=False\n",
    ").to(device)"
   ]
  },
  {
   "cell_type": "markdown",
   "id": "e57e56fd",
   "metadata": {},
   "source": [
    "## Save Latent Vectors"
   ]
  },
  {
   "cell_type": "code",
   "execution_count": 14,
   "id": "52f554ce",
   "metadata": {},
   "outputs": [],
   "source": [
    "# Encode neuro vectors\n",
    "with torch.no_grad():\n",
    "    latent_neuro = autoencoder.to('mps').encoder(neuro_vectors_bin.to(\"mps\")).detach()\n",
    "torch.save(latent_neuro, data_dir / \"latent_neuro_nc.pt\")"
   ]
  }
 ],
 "metadata": {
  "kernelspec": {
   "display_name": ".env",
   "language": "python",
   "name": "python3"
  },
  "language_info": {
   "codemirror_mode": {
    "name": "ipython",
    "version": 3
   },
   "file_extension": ".py",
   "mimetype": "text/x-python",
   "name": "python",
   "nbconvert_exporter": "python",
   "pygments_lexer": "ipython3",
   "version": "3.12.11"
  }
 },
 "nbformat": 4,
 "nbformat_minor": 5
}
